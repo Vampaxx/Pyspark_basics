{
  "nbformat": 4,
  "nbformat_minor": 0,
  "metadata": {
    "colab": {
      "provenance": [],
      "authorship_tag": "ABX9TyOIwq+AiSLxCGfWv13v53GD",
      "include_colab_link": true
    },
    "kernelspec": {
      "name": "python3",
      "display_name": "Python 3"
    },
    "language_info": {
      "name": "python"
    }
  },
  "cells": [
    {
      "cell_type": "markdown",
      "metadata": {
        "id": "view-in-github",
        "colab_type": "text"
      },
      "source": [
        "<a href=\"https://colab.research.google.com/github/Vampaxx/Pyspark_basics/blob/main/Parquet_file.ipynb\" target=\"_parent\"><img src=\"https://colab.research.google.com/assets/colab-badge.svg\" alt=\"Open In Colab\"/></a>"
      ]
    },
    {
      "cell_type": "code",
      "execution_count": 4,
      "metadata": {
        "colab": {
          "base_uri": "https://localhost:8080/"
        },
        "id": "3H_GUP7zr5_8",
        "outputId": "aae693b4-7084-4eaf-a0c1-80d8d9a926cd"
      },
      "outputs": [
        {
          "output_type": "stream",
          "name": "stdout",
          "text": [
            "Collecting pyspark\n",
            "  Downloading pyspark-3.5.0.tar.gz (316.9 MB)\n",
            "\u001b[2K     \u001b[90m━━━━━━━━━━━━━━━━━━━━━━━━━━━━━━━━━━━━━━━━\u001b[0m \u001b[32m316.9/316.9 MB\u001b[0m \u001b[31m3.8 MB/s\u001b[0m eta \u001b[36m0:00:00\u001b[0m\n",
            "\u001b[?25h  Preparing metadata (setup.py) ... \u001b[?25l\u001b[?25hdone\n",
            "Requirement already satisfied: py4j==0.10.9.7 in /usr/local/lib/python3.10/dist-packages (from pyspark) (0.10.9.7)\n",
            "Building wheels for collected packages: pyspark\n",
            "  Building wheel for pyspark (setup.py) ... \u001b[?25l\u001b[?25hdone\n",
            "  Created wheel for pyspark: filename=pyspark-3.5.0-py2.py3-none-any.whl size=317425344 sha256=b38fe7c092d706ced272d1f788102611336f54175219db12616332a58a2ce6b8\n",
            "  Stored in directory: /root/.cache/pip/wheels/41/4e/10/c2cf2467f71c678cfc8a6b9ac9241e5e44a01940da8fbb17fc\n",
            "Successfully built pyspark\n",
            "Installing collected packages: pyspark\n",
            "Successfully installed pyspark-3.5.0\n"
          ]
        }
      ],
      "source": [
        "! pip install pyspark"
      ]
    },
    {
      "cell_type": "code",
      "source": [
        "from google.colab import drive\n",
        "drive.mount('/content/drive')"
      ],
      "metadata": {
        "colab": {
          "base_uri": "https://localhost:8080/"
        },
        "id": "-l5l2565sATd",
        "outputId": "44dbbc6d-d47c-4652-c94a-7b4377f10e30"
      },
      "execution_count": 5,
      "outputs": [
        {
          "output_type": "stream",
          "name": "stdout",
          "text": [
            "Drive already mounted at /content/drive; to attempt to forcibly remount, call drive.mount(\"/content/drive\", force_remount=True).\n"
          ]
        }
      ]
    },
    {
      "cell_type": "code",
      "source": [
        "csv_file = ('/content/drive/MyDrive/Pyspark/datas/Clean_Dataset.csv')"
      ],
      "metadata": {
        "id": "qBspl0qTsBud"
      },
      "execution_count": 6,
      "outputs": []
    },
    {
      "cell_type": "code",
      "source": [
        "from pyspark.sql import SparkSession"
      ],
      "metadata": {
        "id": "bAgZTKcAtfsv"
      },
      "execution_count": 7,
      "outputs": []
    },
    {
      "cell_type": "code",
      "source": [
        "# create session\n",
        "spark = SparkSession.builder.appName('parquet_file').getOrCreate()"
      ],
      "metadata": {
        "id": "Z8Rch4FlsDkE"
      },
      "execution_count": 8,
      "outputs": []
    },
    {
      "cell_type": "code",
      "source": [
        "parquet_file_path = ('/content/drive/MyDrive/Pyspark/datas/airline_parquet_file.parquet/part-00000-a6675740-169c-447d-9690-07ec2022a8ef-c000.snappy.parquet')"
      ],
      "metadata": {
        "id": "eqd6Ud8qsIlv"
      },
      "execution_count": 9,
      "outputs": []
    },
    {
      "cell_type": "code",
      "source": [
        "df = spark.read.parquet(parquet_file_path)"
      ],
      "metadata": {
        "id": "eBuolrznt7FH"
      },
      "execution_count": 10,
      "outputs": []
    },
    {
      "cell_type": "markdown",
      "source": [
        "## Another method to read parquet file"
      ],
      "metadata": {
        "id": "edLQjfT7urEP"
      }
    },
    {
      "cell_type": "code",
      "source": [
        "df = spark.read.format('parquet').load(parquet_file_path)"
      ],
      "metadata": {
        "id": "es6NNUAwuu7m"
      },
      "execution_count": 11,
      "outputs": []
    },
    {
      "cell_type": "code",
      "source": [
        "# Find number of rows of data in dataframe\n",
        "df.count()"
      ],
      "metadata": {
        "colab": {
          "base_uri": "https://localhost:8080/"
        },
        "id": "XcQD995Pu-cY",
        "outputId": "5133029d-8645-47ac-facd-4504d59ab181"
      },
      "execution_count": 12,
      "outputs": [
        {
          "output_type": "execute_result",
          "data": {
            "text/plain": [
              "176863"
            ]
          },
          "metadata": {},
          "execution_count": 12
        }
      ]
    },
    {
      "cell_type": "code",
      "source": [
        "## read multiple parquet file\n",
        "df = spark.read.format('parquet').load('/content/drive/MyDrive/Pyspark/datas/airline_parquet_file.parquet/*.parquet')\n",
        "df.count()"
      ],
      "metadata": {
        "colab": {
          "base_uri": "https://localhost:8080/"
        },
        "id": "m9GsqcFYv-1v",
        "outputId": "9c250fc9-4a76-4c2b-a5aa-87bca41539a4"
      },
      "execution_count": 13,
      "outputs": [
        {
          "output_type": "execute_result",
          "data": {
            "text/plain": [
              "300153"
            ]
          },
          "metadata": {},
          "execution_count": 13
        }
      ]
    },
    {
      "cell_type": "markdown",
      "source": [
        "## write\n",
        "\n",
        "### Save modes\n",
        "\n",
        "- Overwrite - this mode is used to overwrite the existing files\n",
        "- append    - To add the data to existing file\n",
        "- Ignore    - Ignore the write operaion while file is already exists\n",
        "- error     - This is default optioon when the file is already exists, it       return an error"
      ],
      "metadata": {
        "id": "rfAEBAeHXh5h"
      }
    },
    {
      "cell_type": "markdown",
      "source": [
        "## Show()"
      ],
      "metadata": {
        "id": "M08P78pZn9sC"
      }
    },
    {
      "cell_type": "code",
      "source": [
        "df = spark.read.option('header',True)\\\n",
        "     .option('inferschema','true')\\\n",
        "     .csv(csv_file).withColumnRenamed('_c0','Emp_Id')"
      ],
      "metadata": {
        "id": "sD925SVwZbQQ"
      },
      "execution_count": 41,
      "outputs": []
    },
    {
      "cell_type": "code",
      "source": [
        "df.show(truncate=5,n=4)"
      ],
      "metadata": {
        "colab": {
          "base_uri": "https://localhost:8080/"
        },
        "id": "IRqEjXyEoXBC",
        "outputId": "3f710dd4-acb8-4e8b-eff5-58a28868cbaa"
      },
      "execution_count": 45,
      "outputs": [
        {
          "output_type": "stream",
          "name": "stdout",
          "text": [
            "+------+-------+------+-----------+--------------+-----+------------+----------------+-----+--------+---------+-----+\n",
            "|Emp_Id|airline|flight|source_city|departure_time|stops|arrival_time|destination_city|class|duration|days_left|price|\n",
            "+------+-------+------+-----------+--------------+-----+------------+----------------+-----+--------+---------+-----+\n",
            "|     0|  Sp...| SG...|      Delhi|         Ev...| zero|       Night|           Mu...|Ec...|    2.17|        1| 5953|\n",
            "|     1|  Sp...| SG...|      Delhi|         Ea...| zero|       Mo...|           Mu...|Ec...|    2.33|        1| 5953|\n",
            "|     2|  Ai...| I5...|      Delhi|         Ea...| zero|       Ea...|           Mu...|Ec...|    2.17|        1| 5956|\n",
            "|     3|  Vi...| UK...|      Delhi|         Mo...| zero|       Af...|           Mu...|Ec...|    2.25|        1| 5955|\n",
            "+------+-------+------+-----------+--------------+-----+------------+----------------+-----+--------+---------+-----+\n",
            "only showing top 4 rows\n",
            "\n"
          ]
        }
      ]
    },
    {
      "cell_type": "code",
      "source": [
        "df.show(truncate=False,n=2,)"
      ],
      "metadata": {
        "colab": {
          "base_uri": "https://localhost:8080/"
        },
        "id": "2U_bHleioX76",
        "outputId": "534f79d1-a66c-4d87-a857-f6974edfea79"
      },
      "execution_count": 44,
      "outputs": [
        {
          "output_type": "stream",
          "name": "stdout",
          "text": [
            "+------+--------+-------+-----------+--------------+-----+------------+----------------+-------+--------+---------+-----+\n",
            "|Emp_Id|airline |flight |source_city|departure_time|stops|arrival_time|destination_city|class  |duration|days_left|price|\n",
            "+------+--------+-------+-----------+--------------+-----+------------+----------------+-------+--------+---------+-----+\n",
            "|0     |SpiceJet|SG-8709|Delhi      |Evening       |zero |Night       |Mumbai          |Economy|2.17    |1        |5953 |\n",
            "|1     |SpiceJet|SG-8157|Delhi      |Early_Morning |zero |Morning     |Mumbai          |Economy|2.33    |1        |5953 |\n",
            "+------+--------+-------+-----------+--------------+-----+------------+----------------+-------+--------+---------+-----+\n",
            "only showing top 2 rows\n",
            "\n"
          ]
        }
      ]
    },
    {
      "cell_type": "code",
      "source": [
        "df.show(truncate=False,n=4,vertical=True)"
      ],
      "metadata": {
        "colab": {
          "base_uri": "https://localhost:8080/"
        },
        "id": "8tGeWBppoy2T",
        "outputId": "74f138d0-0a6e-475c-f339-374c077bda31"
      },
      "execution_count": 48,
      "outputs": [
        {
          "output_type": "stream",
          "name": "stdout",
          "text": [
            "-RECORD 0-------------------------\n",
            " Emp_Id           | 0             \n",
            " airline          | SpiceJet      \n",
            " flight           | SG-8709       \n",
            " source_city      | Delhi         \n",
            " departure_time   | Evening       \n",
            " stops            | zero          \n",
            " arrival_time     | Night         \n",
            " destination_city | Mumbai        \n",
            " class            | Economy       \n",
            " duration         | 2.17          \n",
            " days_left        | 1             \n",
            " price            | 5953          \n",
            "-RECORD 1-------------------------\n",
            " Emp_Id           | 1             \n",
            " airline          | SpiceJet      \n",
            " flight           | SG-8157       \n",
            " source_city      | Delhi         \n",
            " departure_time   | Early_Morning \n",
            " stops            | zero          \n",
            " arrival_time     | Morning       \n",
            " destination_city | Mumbai        \n",
            " class            | Economy       \n",
            " duration         | 2.33          \n",
            " days_left        | 1             \n",
            " price            | 5953          \n",
            "-RECORD 2-------------------------\n",
            " Emp_Id           | 2             \n",
            " airline          | AirAsia       \n",
            " flight           | I5-764        \n",
            " source_city      | Delhi         \n",
            " departure_time   | Early_Morning \n",
            " stops            | zero          \n",
            " arrival_time     | Early_Morning \n",
            " destination_city | Mumbai        \n",
            " class            | Economy       \n",
            " duration         | 2.17          \n",
            " days_left        | 1             \n",
            " price            | 5956          \n",
            "-RECORD 3-------------------------\n",
            " Emp_Id           | 3             \n",
            " airline          | Vistara       \n",
            " flight           | UK-995        \n",
            " source_city      | Delhi         \n",
            " departure_time   | Morning       \n",
            " stops            | zero          \n",
            " arrival_time     | Afternoon     \n",
            " destination_city | Mumbai        \n",
            " class            | Economy       \n",
            " duration         | 2.25          \n",
            " days_left        | 1             \n",
            " price            | 5955          \n",
            "only showing top 4 rows\n",
            "\n"
          ]
        }
      ]
    },
    {
      "cell_type": "code",
      "source": [],
      "metadata": {
        "id": "9uwP6Ywwu8XI"
      },
      "execution_count": 13,
      "outputs": []
    },
    {
      "cell_type": "code",
      "source": [],
      "metadata": {
        "id": "oqcNNIqOuBmH"
      },
      "execution_count": 13,
      "outputs": []
    }
  ]
}