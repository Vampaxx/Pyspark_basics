{
  "nbformat": 4,
  "nbformat_minor": 0,
  "metadata": {
    "colab": {
      "provenance": [],
      "authorship_tag": "ABX9TyMbHacbo00n4JfSxqtUaJTn",
      "include_colab_link": true
    },
    "kernelspec": {
      "name": "python3",
      "display_name": "Python 3"
    },
    "language_info": {
      "name": "python"
    }
  },
  "cells": [
    {
      "cell_type": "markdown",
      "metadata": {
        "id": "view-in-github",
        "colab_type": "text"
      },
      "source": [
        "<a href=\"https://colab.research.google.com/github/Vampaxx/Pyspark_basics/blob/main/When_%26_otherwise.ipynb\" target=\"_parent\"><img src=\"https://colab.research.google.com/assets/colab-badge.svg\" alt=\"Open In Colab\"/></a>"
      ]
    },
    {
      "cell_type": "code",
      "execution_count": 1,
      "metadata": {
        "colab": {
          "base_uri": "https://localhost:8080/"
        },
        "id": "09RxTVED_Onn",
        "outputId": "c50e2187-dbd5-451e-f9b1-241de85c7926"
      },
      "outputs": [
        {
          "output_type": "stream",
          "name": "stdout",
          "text": [
            "Collecting pyspark\n",
            "  Downloading pyspark-3.5.0.tar.gz (316.9 MB)\n",
            "\u001b[2K     \u001b[90m━━━━━━━━━━━━━━━━━━━━━━━━━━━━━━━━━━━━━━━━\u001b[0m \u001b[32m316.9/316.9 MB\u001b[0m \u001b[31m2.1 MB/s\u001b[0m eta \u001b[36m0:00:00\u001b[0m\n",
            "\u001b[?25h  Preparing metadata (setup.py) ... \u001b[?25l\u001b[?25hdone\n",
            "Requirement already satisfied: py4j==0.10.9.7 in /usr/local/lib/python3.10/dist-packages (from pyspark) (0.10.9.7)\n",
            "Building wheels for collected packages: pyspark\n",
            "  Building wheel for pyspark (setup.py) ... \u001b[?25l\u001b[?25hdone\n",
            "  Created wheel for pyspark: filename=pyspark-3.5.0-py2.py3-none-any.whl size=317425344 sha256=01679a7749627415704bbce9a6c64381c701e6f2178fa951bf6d672534456a06\n",
            "  Stored in directory: /root/.cache/pip/wheels/41/4e/10/c2cf2467f71c678cfc8a6b9ac9241e5e44a01940da8fbb17fc\n",
            "Successfully built pyspark\n",
            "Installing collected packages: pyspark\n",
            "Successfully installed pyspark-3.5.0\n"
          ]
        }
      ],
      "source": [
        "! pip install pyspark"
      ]
    },
    {
      "cell_type": "code",
      "source": [
        "from pyspark.sql.types import (StringType,StructField,\n",
        "                               StructType,IntegerType,\n",
        "                               ArrayType,MapType)\n",
        "from pyspark.sql import SparkSession\n",
        "\n",
        "from pyspark.sql.functions import col,explode,split\n",
        "from pyspark.sql.functions import col,lit,when,expr\n",
        "\n"
      ],
      "metadata": {
        "id": "jVO3ERTU_PK6"
      },
      "execution_count": 2,
      "outputs": []
    },
    {
      "cell_type": "code",
      "source": [
        "spark = SparkSession.builder.appName('When_otherwise').getOrCreate()"
      ],
      "metadata": {
        "id": "sxdEuIY4_QQR"
      },
      "execution_count": 3,
      "outputs": []
    },
    {
      "cell_type": "code",
      "source": [],
      "metadata": {
        "id": "tZGOsEHq_VdJ"
      },
      "execution_count": null,
      "outputs": []
    },
    {
      "cell_type": "markdown",
      "source": [
        "## When() & Otehrwise()\n",
        "\n",
        "\n",
        "Its similar to SQL Case When, execute sequence of expression untill it maches the condition and return a value when match."
      ],
      "metadata": {
        "id": "3TwUlqu7_cuJ"
      }
    },
    {
      "cell_type": "code",
      "source": [
        "data = [\n",
        "    ('Micheal jackson','Artist',51,('black','long_hair')),\\\n",
        "    ('Jacky chan','Actor',45,('asian','short_hair')),\\\n",
        "    ('Mia Khalifa','Actress',22,('arabic','long_hair'))\n",
        "]\n",
        "\n",
        "prop_struct = StructType([\n",
        "    StructField('races',StringType()),\\\n",
        "    StructField('hair_style',StringType())])\n",
        "\n",
        "schema= StructType([\n",
        "    StructField('Name',StringType()),\\\n",
        "    StructField('Occupation',StringType()),\\\n",
        "    StructField('Age',IntegerType()),\\\n",
        "    StructField('Properties',prop_struct)])\n",
        "\n",
        "\n",
        "df = spark.createDataFrame(data,schema)\n",
        "df.show()\n",
        "df.printSchema()\n",
        "\n",
        "\n"
      ],
      "metadata": {
        "colab": {
          "base_uri": "https://localhost:8080/"
        },
        "id": "9Jpg8NC9_xk4",
        "outputId": "b0233e3c-eb76-4258-cea3-29e0ef5ad444"
      },
      "execution_count": 4,
      "outputs": [
        {
          "output_type": "stream",
          "name": "stdout",
          "text": [
            "+---------------+----------+---+-------------------+\n",
            "|           Name|Occupation|Age|         Properties|\n",
            "+---------------+----------+---+-------------------+\n",
            "|Micheal jackson|    Artist| 51| {black, long_hair}|\n",
            "|     Jacky chan|     Actor| 45|{asian, short_hair}|\n",
            "|    Mia Khalifa|   Actress| 22|{arabic, long_hair}|\n",
            "+---------------+----------+---+-------------------+\n",
            "\n",
            "root\n",
            " |-- Name: string (nullable = true)\n",
            " |-- Occupation: string (nullable = true)\n",
            " |-- Age: integer (nullable = true)\n",
            " |-- Properties: struct (nullable = true)\n",
            " |    |-- races: string (nullable = true)\n",
            " |    |-- hair_style: string (nullable = true)\n",
            "\n"
          ]
        }
      ]
    },
    {
      "cell_type": "code",
      "source": [
        "df.select(\\\n",
        "          df.Name, when(condition=df.Name=='Mia Khalifa',value='Dani daniels')\n",
        "                  .when(condition=df.Name=='Jacky chan', value='Tom cruise')\n",
        "                  .otherwise(df.Name).alias('Artist_name')\n",
        "          ).show()"
      ],
      "metadata": {
        "colab": {
          "base_uri": "https://localhost:8080/"
        },
        "id": "CGlUEIO6Azno",
        "outputId": "f2b1ee57-502f-4b14-cf66-0d8c29472897"
      },
      "execution_count": 19,
      "outputs": [
        {
          "output_type": "stream",
          "name": "stdout",
          "text": [
            "+---------------+---------------+\n",
            "|           Name|    Artist_name|\n",
            "+---------------+---------------+\n",
            "|Micheal jackson|Micheal jackson|\n",
            "|     Jacky chan|     Tom cruise|\n",
            "|    Mia Khalifa|   Dani daniels|\n",
            "+---------------+---------------+\n",
            "\n"
          ]
        }
      ]
    },
    {
      "cell_type": "code",
      "source": [
        "df.withColumn('Changed_artist',when(df['Name'] == 'Mia Khalifa','Dani daniels')\n",
        "                              .when(df['Age'] == 45,'SRK')\n",
        "                              .otherwise(df['Name'])\n",
        "\n",
        "              ).show()"
      ],
      "metadata": {
        "colab": {
          "base_uri": "https://localhost:8080/"
        },
        "id": "tAiEj3H-Bm_g",
        "outputId": "174cbcf5-8385-4566-e23b-da35d0753850"
      },
      "execution_count": 21,
      "outputs": [
        {
          "output_type": "stream",
          "name": "stdout",
          "text": [
            "+---------------+----------+---+-------------------+---------------+\n",
            "|           Name|Occupation|Age|         Properties| Changed_artist|\n",
            "+---------------+----------+---+-------------------+---------------+\n",
            "|Micheal jackson|    Artist| 51| {black, long_hair}|Micheal jackson|\n",
            "|     Jacky chan|     Actor| 45|{asian, short_hair}|            SRK|\n",
            "|    Mia Khalifa|   Actress| 22|{arabic, long_hair}|   Dani daniels|\n",
            "+---------------+----------+---+-------------------+---------------+\n",
            "\n"
          ]
        }
      ]
    },
    {
      "cell_type": "code",
      "source": [],
      "metadata": {
        "id": "Ord72uk8EdCX"
      },
      "execution_count": null,
      "outputs": []
    }
  ]
}