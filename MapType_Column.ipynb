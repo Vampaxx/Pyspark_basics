{
  "nbformat": 4,
  "nbformat_minor": 0,
  "metadata": {
    "colab": {
      "provenance": [],
      "authorship_tag": "ABX9TyPeQtfFM6tPHtH+hXGnDSxa",
      "include_colab_link": true
    },
    "kernelspec": {
      "name": "python3",
      "display_name": "Python 3"
    },
    "language_info": {
      "name": "python"
    }
  },
  "cells": [
    {
      "cell_type": "markdown",
      "metadata": {
        "id": "view-in-github",
        "colab_type": "text"
      },
      "source": [
        "<a href=\"https://colab.research.google.com/github/Vampaxx/Pyspark_basics/blob/main/MapType_Column.ipynb\" target=\"_parent\"><img src=\"https://colab.research.google.com/assets/colab-badge.svg\" alt=\"Open In Colab\"/></a>"
      ]
    },
    {
      "cell_type": "code",
      "execution_count": 2,
      "metadata": {
        "colab": {
          "base_uri": "https://localhost:8080/"
        },
        "id": "2wmHewmVtULM",
        "outputId": "e64f816e-9095-43f0-fb50-3ca6e36eef77"
      },
      "outputs": [
        {
          "output_type": "stream",
          "name": "stdout",
          "text": [
            "Collecting pyspark\n",
            "  Downloading pyspark-3.5.0.tar.gz (316.9 MB)\n",
            "\u001b[2K     \u001b[90m━━━━━━━━━━━━━━━━━━━━━━━━━━━━━━━━━━━━━━━━\u001b[0m \u001b[32m316.9/316.9 MB\u001b[0m \u001b[31m4.5 MB/s\u001b[0m eta \u001b[36m0:00:00\u001b[0m\n",
            "\u001b[?25h  Preparing metadata (setup.py) ... \u001b[?25l\u001b[?25hdone\n",
            "Requirement already satisfied: py4j==0.10.9.7 in /usr/local/lib/python3.10/dist-packages (from pyspark) (0.10.9.7)\n",
            "Building wheels for collected packages: pyspark\n",
            "  Building wheel for pyspark (setup.py) ... \u001b[?25l\u001b[?25hdone\n",
            "  Created wheel for pyspark: filename=pyspark-3.5.0-py2.py3-none-any.whl size=317425344 sha256=3271b3430fb08a7f628a55d2a7f74468aa5ee894210655cd6ae50d2fe19eb4bb\n",
            "  Stored in directory: /root/.cache/pip/wheels/41/4e/10/c2cf2467f71c678cfc8a6b9ac9241e5e44a01940da8fbb17fc\n",
            "Successfully built pyspark\n",
            "Installing collected packages: pyspark\n",
            "Successfully installed pyspark-3.5.0\n"
          ]
        }
      ],
      "source": [
        "! pip install pyspark"
      ]
    },
    {
      "cell_type": "code",
      "source": [
        "from pyspark.sql.types import (StringType,StructField,\n",
        "                               StructType,IntegerType,\n",
        "                               ArrayType,MapType)\n",
        "from pyspark.sql import SparkSession\n",
        "\n",
        "from pyspark.sql.functions import col,explode,split\n",
        "from pyspark.sql.functions import col,lit,when,expr\n",
        "\n"
      ],
      "metadata": {
        "id": "u2DZdPUqtUzR"
      },
      "execution_count": 14,
      "outputs": []
    },
    {
      "cell_type": "code",
      "source": [
        "spark = SparkSession.builder.appName('MapType_Column').getOrCreate()"
      ],
      "metadata": {
        "id": "LQVX5LgCtbsI"
      },
      "execution_count": 4,
      "outputs": []
    },
    {
      "cell_type": "code",
      "source": [],
      "metadata": {
        "id": "-ju9NVu9thXJ"
      },
      "execution_count": 4,
      "outputs": []
    },
    {
      "cell_type": "markdown",
      "source": [
        "## MapType Column\n",
        "\n",
        "Pyspark Maptype is used to represent map key-value pair similar to python Dictionary(Dict)"
      ],
      "metadata": {
        "id": "gn8VHxnwtrfJ"
      }
    },
    {
      "cell_type": "code",
      "source": [
        "from os import truncate\n",
        "data = [('Arjun',{'hair': 'black', 'eye': 'brown'}),\\\n",
        "        ('Micheal',{'hair': 'black', 'eye':'blue'})]\n",
        "\n",
        "schema = ['Emp_name','properties']\n",
        "df = spark.createDataFrame(data,schema)\n",
        "df.show(truncate=False)\n",
        "df.printSchema()"
      ],
      "metadata": {
        "colab": {
          "base_uri": "https://localhost:8080/"
        },
        "id": "eJKHGqcKuDGx",
        "outputId": "7eefeb81-a73b-4938-fb2a-595960461658"
      },
      "execution_count": 5,
      "outputs": [
        {
          "output_type": "stream",
          "name": "stdout",
          "text": [
            "+--------+-----------------------------+\n",
            "|Emp_name|properties                   |\n",
            "+--------+-----------------------------+\n",
            "|Arjun   |{eye -> brown, hair -> black}|\n",
            "|Micheal |{eye -> blue, hair -> black} |\n",
            "+--------+-----------------------------+\n",
            "\n",
            "root\n",
            " |-- Emp_name: string (nullable = true)\n",
            " |-- properties: map (nullable = true)\n",
            " |    |-- key: string\n",
            " |    |-- value: string (valueContainsNull = true)\n",
            "\n"
          ]
        }
      ]
    },
    {
      "cell_type": "code",
      "source": [
        "schema = StructType([\\\n",
        "                     StructField('Emp_name',StringType()),\\\n",
        "                     StructField('properties',MapType(StringType(),StringType() )) ])\n",
        "\n",
        "df = spark.createDataFrame(data,schema)\n",
        "df.printSchema()\n",
        "df.show(truncate=False)"
      ],
      "metadata": {
        "colab": {
          "base_uri": "https://localhost:8080/"
        },
        "id": "_td88t9vumHA",
        "outputId": "a17edb39-b466-4b37-e972-827b0d17d96a"
      },
      "execution_count": 6,
      "outputs": [
        {
          "output_type": "stream",
          "name": "stdout",
          "text": [
            "root\n",
            " |-- Emp_name: string (nullable = true)\n",
            " |-- properties: map (nullable = true)\n",
            " |    |-- key: string\n",
            " |    |-- value: string (valueContainsNull = true)\n",
            "\n",
            "+--------+-----------------------------+\n",
            "|Emp_name|properties                   |\n",
            "+--------+-----------------------------+\n",
            "|Arjun   |{eye -> brown, hair -> black}|\n",
            "|Micheal |{eye -> blue, hair -> black} |\n",
            "+--------+-----------------------------+\n",
            "\n"
          ]
        }
      ]
    },
    {
      "cell_type": "code",
      "source": [
        "df.withColumn('eye',df.properties['eye']).show(truncate=False)"
      ],
      "metadata": {
        "colab": {
          "base_uri": "https://localhost:8080/"
        },
        "id": "aIoHDoYzva3v",
        "outputId": "49b221e6-85f2-42e5-9f6a-1cf0fc522440"
      },
      "execution_count": 7,
      "outputs": [
        {
          "output_type": "stream",
          "name": "stdout",
          "text": [
            "+--------+-----------------------------+-----+\n",
            "|Emp_name|properties                   |eye  |\n",
            "+--------+-----------------------------+-----+\n",
            "|Arjun   |{eye -> brown, hair -> black}|brown|\n",
            "|Micheal |{eye -> blue, hair -> black} |blue |\n",
            "+--------+-----------------------------+-----+\n",
            "\n"
          ]
        }
      ]
    },
    {
      "cell_type": "markdown",
      "source": [
        "## Explode the mapped column"
      ],
      "metadata": {
        "id": "OHI7QTqIUU0x"
      }
    },
    {
      "cell_type": "code",
      "source": [
        "df.select('Emp_name',explode('properties').alias('Organ','properties')).show()"
      ],
      "metadata": {
        "colab": {
          "base_uri": "https://localhost:8080/"
        },
        "id": "-uXTTVIFS1Jq",
        "outputId": "e06752ac-9dc4-45fd-8407-8aa52f63407c"
      },
      "execution_count": 20,
      "outputs": [
        {
          "output_type": "stream",
          "name": "stdout",
          "text": [
            "+--------+-----+----------+\n",
            "|Emp_name|Organ|properties|\n",
            "+--------+-----+----------+\n",
            "|   Arjun|  eye|     brown|\n",
            "|   Arjun| hair|     black|\n",
            "| Micheal|  eye|      blue|\n",
            "| Micheal| hair|     black|\n",
            "+--------+-----+----------+\n",
            "\n"
          ]
        }
      ]
    },
    {
      "cell_type": "code",
      "source": [],
      "metadata": {
        "id": "ZWvCQYmlS1Ps"
      },
      "execution_count": null,
      "outputs": []
    },
    {
      "cell_type": "code",
      "source": [],
      "metadata": {
        "id": "mK0tjPD6S1Sy"
      },
      "execution_count": null,
      "outputs": []
    },
    {
      "cell_type": "code",
      "source": [],
      "metadata": {
        "id": "qufhfA4kS1Vq"
      },
      "execution_count": null,
      "outputs": []
    },
    {
      "cell_type": "code",
      "source": [],
      "metadata": {
        "id": "7huIvWJ4S1Yz"
      },
      "execution_count": null,
      "outputs": []
    }
  ]
}