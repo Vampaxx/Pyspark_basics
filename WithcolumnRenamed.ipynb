{
  "nbformat": 4,
  "nbformat_minor": 0,
  "metadata": {
    "colab": {
      "provenance": [],
      "authorship_tag": "ABX9TyOtefBoBWk2rK7kYOdcxC+g",
      "include_colab_link": true
    },
    "kernelspec": {
      "name": "python3",
      "display_name": "Python 3"
    },
    "language_info": {
      "name": "python"
    }
  },
  "cells": [
    {
      "cell_type": "markdown",
      "metadata": {
        "id": "view-in-github",
        "colab_type": "text"
      },
      "source": [
        "<a href=\"https://colab.research.google.com/github/Vampaxx/Pyspark_basics/blob/main/WithcolumnRenamed.ipynb\" target=\"_parent\"><img src=\"https://colab.research.google.com/assets/colab-badge.svg\" alt=\"Open In Colab\"/></a>"
      ]
    },
    {
      "cell_type": "code",
      "execution_count": 1,
      "metadata": {
        "colab": {
          "base_uri": "https://localhost:8080/"
        },
        "id": "K9ynCJlw1d4g",
        "outputId": "021e5ca9-775a-45e6-f063-a6fc3b7c26b5"
      },
      "outputs": [
        {
          "output_type": "stream",
          "name": "stdout",
          "text": [
            "Collecting pyspark\n",
            "  Downloading pyspark-3.5.0.tar.gz (316.9 MB)\n",
            "\u001b[2K     \u001b[90m━━━━━━━━━━━━━━━━━━━━━━━━━━━━━━━━━━━━━━━━\u001b[0m \u001b[32m316.9/316.9 MB\u001b[0m \u001b[31m3.9 MB/s\u001b[0m eta \u001b[36m0:00:00\u001b[0m\n",
            "\u001b[?25h  Preparing metadata (setup.py) ... \u001b[?25l\u001b[?25hdone\n",
            "Requirement already satisfied: py4j==0.10.9.7 in /usr/local/lib/python3.10/dist-packages (from pyspark) (0.10.9.7)\n",
            "Building wheels for collected packages: pyspark\n",
            "  Building wheel for pyspark (setup.py) ... \u001b[?25l\u001b[?25hdone\n",
            "  Created wheel for pyspark: filename=pyspark-3.5.0-py2.py3-none-any.whl size=317425344 sha256=5e2f3c2deb1ae57782539185909d509adca9bf2f2b74158a5a6cd10f8905c562\n",
            "  Stored in directory: /root/.cache/pip/wheels/41/4e/10/c2cf2467f71c678cfc8a6b9ac9241e5e44a01940da8fbb17fc\n",
            "Successfully built pyspark\n",
            "Installing collected packages: pyspark\n",
            "Successfully installed pyspark-3.5.0\n"
          ]
        }
      ],
      "source": [
        "! pip install pyspark"
      ]
    },
    {
      "cell_type": "code",
      "source": [
        "from google.colab import drive\n",
        "drive.mount('/content/drive')"
      ],
      "metadata": {
        "colab": {
          "base_uri": "https://localhost:8080/"
        },
        "id": "F6zRdDm81ig9",
        "outputId": "d0b6e631-2639-4d20-950d-a25858d591e6"
      },
      "execution_count": 2,
      "outputs": [
        {
          "output_type": "stream",
          "name": "stdout",
          "text": [
            "Mounted at /content/drive\n"
          ]
        }
      ]
    },
    {
      "cell_type": "code",
      "source": [
        "csv_file = ('/content/drive/MyDrive/Pyspark/datas/Clean_Dataset.csv')"
      ],
      "metadata": {
        "id": "XgZdM24S1jzE"
      },
      "execution_count": 3,
      "outputs": []
    },
    {
      "cell_type": "code",
      "source": [
        "from pyspark.sql import SparkSession\n",
        "from pyspark.sql.functions import col,lit,when\n",
        "\n",
        "# create session\n",
        "spark = SparkSession.builder.appName('withcolumnRenamd').getOrCreate()"
      ],
      "metadata": {
        "id": "G-3L80w11lFV"
      },
      "execution_count": 4,
      "outputs": []
    },
    {
      "cell_type": "code",
      "source": [
        "data = [(1,'Shah',50000),\n",
        "        (2,'Micheal',75000),\n",
        "        (3,'Mia',10000),\n",
        "        (4,'Daniel',2500),\n",
        "        (5,'Johnson',6000)]\n",
        "columns = ['Id','Emp_name','Salary']\n",
        "df = spark.createDataFrame(data,schema = columns)\n",
        "df.show()"
      ],
      "metadata": {
        "colab": {
          "base_uri": "https://localhost:8080/"
        },
        "id": "mpus5-VU1nwN",
        "outputId": "fbab5782-a1dc-44f3-f6c8-3c2d545e4de3"
      },
      "execution_count": 5,
      "outputs": [
        {
          "output_type": "stream",
          "name": "stdout",
          "text": [
            "+---+--------+------+\n",
            "| Id|Emp_name|Salary|\n",
            "+---+--------+------+\n",
            "|  1|    Shah| 50000|\n",
            "|  2| Micheal| 75000|\n",
            "|  3|     Mia| 10000|\n",
            "|  4|  Daniel|  2500|\n",
            "|  5| Johnson|  6000|\n",
            "+---+--------+------+\n",
            "\n"
          ]
        }
      ]
    },
    {
      "cell_type": "code",
      "source": [
        "df.withColumnRenamed('Salary','Emp_salary').show()"
      ],
      "metadata": {
        "colab": {
          "base_uri": "https://localhost:8080/"
        },
        "id": "WvFx1Ua72An1",
        "outputId": "b6ea94fe-00a3-4150-bb21-234399ac26c7"
      },
      "execution_count": 6,
      "outputs": [
        {
          "output_type": "stream",
          "name": "stdout",
          "text": [
            "+---+--------+----------+\n",
            "| Id|Emp_name|Emp_salary|\n",
            "+---+--------+----------+\n",
            "|  1|    Shah|     50000|\n",
            "|  2| Micheal|     75000|\n",
            "|  3|     Mia|     10000|\n",
            "|  4|  Daniel|      2500|\n",
            "|  5| Johnson|      6000|\n",
            "+---+--------+----------+\n",
            "\n"
          ]
        }
      ]
    },
    {
      "cell_type": "code",
      "source": [],
      "metadata": {
        "id": "b7pZN8Be2iuW"
      },
      "execution_count": null,
      "outputs": []
    }
  ]
}