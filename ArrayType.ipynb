{
  "nbformat": 4,
  "nbformat_minor": 0,
  "metadata": {
    "colab": {
      "provenance": [],
      "authorship_tag": "ABX9TyOQ/GG2skK7TmMs4oMy8e+s",
      "include_colab_link": true
    },
    "kernelspec": {
      "name": "python3",
      "display_name": "Python 3"
    },
    "language_info": {
      "name": "python"
    }
  },
  "cells": [
    {
      "cell_type": "markdown",
      "metadata": {
        "id": "view-in-github",
        "colab_type": "text"
      },
      "source": [
        "<a href=\"https://colab.research.google.com/github/Vampaxx/Pyspark_basics/blob/main/ArrayType.ipynb\" target=\"_parent\"><img src=\"https://colab.research.google.com/assets/colab-badge.svg\" alt=\"Open In Colab\"/></a>"
      ]
    },
    {
      "cell_type": "code",
      "execution_count": 1,
      "metadata": {
        "colab": {
          "base_uri": "https://localhost:8080/"
        },
        "id": "lehzsReJiuwt",
        "outputId": "6cdb157e-62c5-4769-d2aa-1143d5bca306"
      },
      "outputs": [
        {
          "output_type": "stream",
          "name": "stdout",
          "text": [
            "Collecting pyspark\n",
            "  Downloading pyspark-3.5.0.tar.gz (316.9 MB)\n",
            "\u001b[2K     \u001b[90m━━━━━━━━━━━━━━━━━━━━━━━━━━━━━━━━━━━━━━━━\u001b[0m \u001b[32m316.9/316.9 MB\u001b[0m \u001b[31m4.6 MB/s\u001b[0m eta \u001b[36m0:00:00\u001b[0m\n",
            "\u001b[?25h  Preparing metadata (setup.py) ... \u001b[?25l\u001b[?25hdone\n",
            "Requirement already satisfied: py4j==0.10.9.7 in /usr/local/lib/python3.10/dist-packages (from pyspark) (0.10.9.7)\n",
            "Building wheels for collected packages: pyspark\n",
            "  Building wheel for pyspark (setup.py) ... \u001b[?25l\u001b[?25hdone\n",
            "  Created wheel for pyspark: filename=pyspark-3.5.0-py2.py3-none-any.whl size=317425344 sha256=a53e81191a4ff721de46ae2572702eac2cd79beddb8fe8262d8670f447868e56\n",
            "  Stored in directory: /root/.cache/pip/wheels/41/4e/10/c2cf2467f71c678cfc8a6b9ac9241e5e44a01940da8fbb17fc\n",
            "Successfully built pyspark\n",
            "Installing collected packages: pyspark\n",
            "Successfully installed pyspark-3.5.0\n"
          ]
        }
      ],
      "source": [
        "! pip install pyspark"
      ]
    },
    {
      "cell_type": "code",
      "source": [
        "from pyspark.sql.types import StringType,StructField,StructType,IntegerType,ArrayType\n",
        "from pyspark.sql import SparkSession\n",
        "from pyspark.sql.functions import col,array"
      ],
      "metadata": {
        "id": "kjp08BGgi3Ou"
      },
      "execution_count": 28,
      "outputs": []
    },
    {
      "cell_type": "code",
      "source": [
        "spark = SparkSession.builder.appName('ArrayType').getOrCreate()"
      ],
      "metadata": {
        "id": "xYrv5K5gjRtW"
      },
      "execution_count": 3,
      "outputs": []
    },
    {
      "cell_type": "code",
      "source": [
        "data = [('apple',[1,2]),\\\n",
        "        ('orange',[4,5]),\\\n",
        "        ('grapes',[7,8])]\n",
        "schema = ['fruits','No_of_kgs']\n",
        "df = spark.createDataFrame(data,schema)\n",
        "df.show()\n",
        "df.printSchema()"
      ],
      "metadata": {
        "colab": {
          "base_uri": "https://localhost:8080/"
        },
        "id": "xWLJEa6Tj8X_",
        "outputId": "7d50aec8-9d6a-4173-caba-038af0982f90"
      },
      "execution_count": 4,
      "outputs": [
        {
          "output_type": "stream",
          "name": "stdout",
          "text": [
            "+------+---------+\n",
            "|fruits|No_of_kgs|\n",
            "+------+---------+\n",
            "| apple|   [1, 2]|\n",
            "|orange|   [4, 5]|\n",
            "|grapes|   [7, 8]|\n",
            "+------+---------+\n",
            "\n",
            "root\n",
            " |-- fruits: string (nullable = true)\n",
            " |-- No_of_kgs: array (nullable = true)\n",
            " |    |-- element: long (containsNull = true)\n",
            "\n"
          ]
        }
      ]
    },
    {
      "cell_type": "code",
      "source": [
        "data = [('apple',[1,2]),\\\n",
        "        ('orange',[4,5]),\\\n",
        "        ('grapes',[7,8])]\n",
        "\n",
        "schema = StructType([\\\n",
        "                     StructField('fruits',StringType()),\\\n",
        "                     StructField('No_of_kgs',ArrayType(IntegerType())) ]) #Interger present inside the array type\n",
        "\n",
        "df = spark.createDataFrame(data,schema)\n",
        "df.show()\n",
        "df.printSchema()"
      ],
      "metadata": {
        "colab": {
          "base_uri": "https://localhost:8080/"
        },
        "id": "mBZZc-xUnYlu",
        "outputId": "179ce5fb-0348-4a99-d4e5-4512ccac695c"
      },
      "execution_count": 5,
      "outputs": [
        {
          "output_type": "stream",
          "name": "stdout",
          "text": [
            "+------+---------+\n",
            "|fruits|No_of_kgs|\n",
            "+------+---------+\n",
            "| apple|   [1, 2]|\n",
            "|orange|   [4, 5]|\n",
            "|grapes|   [7, 8]|\n",
            "+------+---------+\n",
            "\n",
            "root\n",
            " |-- fruits: string (nullable = true)\n",
            " |-- No_of_kgs: array (nullable = true)\n",
            " |    |-- element: integer (containsNull = true)\n",
            "\n"
          ]
        }
      ]
    },
    {
      "cell_type": "code",
      "source": [
        "df.withColumn('shop_1',col('No_of_kgs')[0]).show()\n",
        "df.withColumn('shop_2',col('No_of_kgs')[1]).show()"
      ],
      "metadata": {
        "colab": {
          "base_uri": "https://localhost:8080/"
        },
        "id": "fCEor-wc4V4a",
        "outputId": "3aec6975-cde7-4f63-bed5-8b28e12a858d"
      },
      "execution_count": 6,
      "outputs": [
        {
          "output_type": "stream",
          "name": "stdout",
          "text": [
            "+------+---------+------+\n",
            "|fruits|No_of_kgs|shop_1|\n",
            "+------+---------+------+\n",
            "| apple|   [1, 2]|     1|\n",
            "|orange|   [4, 5]|     4|\n",
            "|grapes|   [7, 8]|     7|\n",
            "+------+---------+------+\n",
            "\n",
            "+------+---------+------+\n",
            "|fruits|No_of_kgs|shop_2|\n",
            "+------+---------+------+\n",
            "| apple|   [1, 2]|     2|\n",
            "|orange|   [4, 5]|     5|\n",
            "|grapes|   [7, 8]|     8|\n",
            "+------+---------+------+\n",
            "\n"
          ]
        }
      ]
    },
    {
      "cell_type": "code",
      "source": [
        "from pyspark.sql.functions import array\n",
        "## Combine multiple column and create new column\n",
        "\n",
        "data = [('Apple',12),\\\n",
        "        ('Orange',24),\\\n",
        "        ('Grapes',2),\\\n",
        "        ('Banana',5)]\n",
        "\n",
        "schema = ['fruits','No_of_kgs']\n",
        "df = spark.createDataFrame(data,schema)\n",
        "df.withColumn('Fruits_and_kgs',array(df.fruits,df.No_of_kgs)).show()\n",
        "df.withColumn('Fruits_and_kgs',array(df.fruits,df.No_of_kgs)).printSchema()\n",
        "\n",
        "## Another method\n",
        "\n",
        "df.withColumn('Fruits_and_kgs',array(col('Fruits'),col('No_of_kgs'))).show()"
      ],
      "metadata": {
        "colab": {
          "base_uri": "https://localhost:8080/"
        },
        "id": "bSg2_q9R5LaV",
        "outputId": "a56c31c0-3908-4481-e3b7-a5df4ca49734"
      },
      "execution_count": 34,
      "outputs": [
        {
          "output_type": "stream",
          "name": "stdout",
          "text": [
            "+------+---------+--------------+\n",
            "|fruits|No_of_kgs|Fruits_and_kgs|\n",
            "+------+---------+--------------+\n",
            "| Apple|       12|   [Apple, 12]|\n",
            "|Orange|       24|  [Orange, 24]|\n",
            "|Grapes|        2|   [Grapes, 2]|\n",
            "|Banana|        5|   [Banana, 5]|\n",
            "+------+---------+--------------+\n",
            "\n",
            "root\n",
            " |-- fruits: string (nullable = true)\n",
            " |-- No_of_kgs: long (nullable = true)\n",
            " |-- Fruits_and_kgs: array (nullable = false)\n",
            " |    |-- element: string (containsNull = true)\n",
            "\n",
            "+------+---------+--------------+\n",
            "|fruits|No_of_kgs|Fruits_and_kgs|\n",
            "+------+---------+--------------+\n",
            "| Apple|       12|   [Apple, 12]|\n",
            "|Orange|       24|  [Orange, 24]|\n",
            "|Grapes|        2|   [Grapes, 2]|\n",
            "|Banana|        5|   [Banana, 5]|\n",
            "+------+---------+--------------+\n",
            "\n"
          ]
        }
      ]
    },
    {
      "cell_type": "code",
      "source": [
        "data = [(\"John\", [\"apple\", \"banana\", \"cherry\"]),\n",
        "        (\"Alice\", [\"orange\", \"strawberry\"]),\n",
        "        (\"Bob\", [\"grape\"])]\n",
        "\n",
        "schema = [\"name\", \"fruits\"]\n",
        "df = spark.createDataFrame(data, schema)\n",
        "df.show()"
      ],
      "metadata": {
        "colab": {
          "base_uri": "https://localhost:8080/"
        },
        "id": "nACtrN5bFriF",
        "outputId": "5dfd99fd-6db0-4a0a-ca9a-6e9fe252c11c"
      },
      "execution_count": 35,
      "outputs": [
        {
          "output_type": "stream",
          "name": "stdout",
          "text": [
            "+-----+--------------------+\n",
            "| name|              fruits|\n",
            "+-----+--------------------+\n",
            "| John|[apple, banana, c...|\n",
            "|Alice|[orange, strawberry]|\n",
            "|  Bob|             [grape]|\n",
            "+-----+--------------------+\n",
            "\n"
          ]
        }
      ]
    },
    {
      "cell_type": "code",
      "source": [
        "df.select(col(\"name\"), col(\"fruits\")[0].alias(\"first_fruit\")).show()"
      ],
      "metadata": {
        "colab": {
          "base_uri": "https://localhost:8080/"
        },
        "id": "y8OHMc49Gf5E",
        "outputId": "a2a74523-3038-4c4a-ec7d-2140abb13158"
      },
      "execution_count": 36,
      "outputs": [
        {
          "output_type": "stream",
          "name": "stdout",
          "text": [
            "+-----+-----------+\n",
            "| name|first_fruit|\n",
            "+-----+-----------+\n",
            "| John|      apple|\n",
            "|Alice|     orange|\n",
            "|  Bob|      grape|\n",
            "+-----+-----------+\n",
            "\n"
          ]
        }
      ]
    },
    {
      "cell_type": "code",
      "source": [
        "from pyspark.sql.functions import explode\n",
        "\n",
        "df.select(col(\"name\"), explode(col(\"fruits\")).alias(\"fruit\")).show()"
      ],
      "metadata": {
        "colab": {
          "base_uri": "https://localhost:8080/"
        },
        "id": "GjdOOtKbGkvs",
        "outputId": "61163960-5765-4ec7-e3d7-7482b31a51be"
      },
      "execution_count": 38,
      "outputs": [
        {
          "output_type": "stream",
          "name": "stdout",
          "text": [
            "+-----+----------+\n",
            "| name|     fruit|\n",
            "+-----+----------+\n",
            "| John|     apple|\n",
            "| John|    banana|\n",
            "| John|    cherry|\n",
            "|Alice|    orange|\n",
            "|Alice|strawberry|\n",
            "|  Bob|     grape|\n",
            "+-----+----------+\n",
            "\n"
          ]
        }
      ]
    },
    {
      "cell_type": "code",
      "source": [
        "from pyspark.sql.functions import array_contains"
      ],
      "metadata": {
        "id": "KILPvKd5G3Wl"
      },
      "execution_count": 40,
      "outputs": []
    },
    {
      "cell_type": "code",
      "source": [
        "df.filter(array_contains(col(\"fruits\"), \"apple\")).show()"
      ],
      "metadata": {
        "colab": {
          "base_uri": "https://localhost:8080/"
        },
        "id": "4JDicKwoHib0",
        "outputId": "89bfc932-c83a-4b54-cd38-50af90dbe191"
      },
      "execution_count": 42,
      "outputs": [
        {
          "output_type": "stream",
          "name": "stdout",
          "text": [
            "+----+--------------------+\n",
            "|name|              fruits|\n",
            "+----+--------------------+\n",
            "|John|[apple, banana, c...|\n",
            "+----+--------------------+\n",
            "\n"
          ]
        }
      ]
    },
    {
      "cell_type": "code",
      "source": [],
      "metadata": {
        "colab": {
          "base_uri": "https://localhost:8080/"
        },
        "id": "bZ5nQ7oyHlU1",
        "outputId": "a47e95c2-866b-409b-e6a6-e5b0b3c4a740"
      },
      "execution_count": 43,
      "outputs": [
        {
          "output_type": "execute_result",
          "data": {
            "text/plain": [
              "8"
            ]
          },
          "metadata": {},
          "execution_count": 43
        }
      ]
    },
    {
      "cell_type": "code",
      "source": [],
      "metadata": {
        "id": "-BiIisaCJdss"
      },
      "execution_count": null,
      "outputs": []
    },
    {
      "cell_type": "code",
      "source": [],
      "metadata": {
        "id": "j-El_BpwHBCc"
      },
      "execution_count": null,
      "outputs": []
    },
    {
      "cell_type": "code",
      "source": [],
      "metadata": {
        "id": "AnGk6WixGsU0"
      },
      "execution_count": null,
      "outputs": []
    },
    {
      "cell_type": "code",
      "source": [],
      "metadata": {
        "id": "qpdH2-7mFGaj"
      },
      "execution_count": null,
      "outputs": []
    },
    {
      "cell_type": "code",
      "source": [],
      "metadata": {
        "id": "n3oG3KhLEvDO"
      },
      "execution_count": null,
      "outputs": []
    },
    {
      "cell_type": "code",
      "source": [],
      "metadata": {
        "id": "2VCDiHdYEZRU"
      },
      "execution_count": null,
      "outputs": []
    },
    {
      "cell_type": "code",
      "source": [],
      "metadata": {
        "id": "BlGe-QGDEWL7"
      },
      "execution_count": null,
      "outputs": []
    },
    {
      "cell_type": "code",
      "source": [],
      "metadata": {
        "id": "nMhpY7h4D1e0"
      },
      "execution_count": null,
      "outputs": []
    },
    {
      "cell_type": "code",
      "source": [],
      "metadata": {
        "id": "kmAKCG0dDsKs"
      },
      "execution_count": null,
      "outputs": []
    },
    {
      "cell_type": "code",
      "source": [],
      "metadata": {
        "id": "PHnFve81i57A"
      },
      "execution_count": 7,
      "outputs": []
    }
  ]
}