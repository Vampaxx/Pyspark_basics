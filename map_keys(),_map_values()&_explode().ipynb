{
  "nbformat": 4,
  "nbformat_minor": 0,
  "metadata": {
    "colab": {
      "provenance": [],
      "authorship_tag": "ABX9TyPVnUCcz5w5DAmvDtKpxuYn",
      "include_colab_link": true
    },
    "kernelspec": {
      "name": "python3",
      "display_name": "Python 3"
    },
    "language_info": {
      "name": "python"
    }
  },
  "cells": [
    {
      "cell_type": "markdown",
      "metadata": {
        "id": "view-in-github",
        "colab_type": "text"
      },
      "source": [
        "<a href=\"https://colab.research.google.com/github/Vampaxx/Pyspark_basics/blob/main/map_keys()%2C_map_values()%26_explode().ipynb\" target=\"_parent\"><img src=\"https://colab.research.google.com/assets/colab-badge.svg\" alt=\"Open In Colab\"/></a>"
      ]
    },
    {
      "cell_type": "code",
      "execution_count": 1,
      "metadata": {
        "colab": {
          "base_uri": "https://localhost:8080/"
        },
        "id": "Nc51mS48dZQF",
        "outputId": "2ca0c050-158e-4f5c-b60b-c95fee491488"
      },
      "outputs": [
        {
          "output_type": "stream",
          "name": "stdout",
          "text": [
            "Collecting pyspark\n",
            "  Downloading pyspark-3.5.0.tar.gz (316.9 MB)\n",
            "\u001b[2K     \u001b[90m━━━━━━━━━━━━━━━━━━━━━━━━━━━━━━━━━━━━━━━━\u001b[0m \u001b[32m316.9/316.9 MB\u001b[0m \u001b[31m4.9 MB/s\u001b[0m eta \u001b[36m0:00:00\u001b[0m\n",
            "\u001b[?25h  Preparing metadata (setup.py) ... \u001b[?25l\u001b[?25hdone\n",
            "Requirement already satisfied: py4j==0.10.9.7 in /usr/local/lib/python3.10/dist-packages (from pyspark) (0.10.9.7)\n",
            "Building wheels for collected packages: pyspark\n",
            "  Building wheel for pyspark (setup.py) ... \u001b[?25l\u001b[?25hdone\n",
            "  Created wheel for pyspark: filename=pyspark-3.5.0-py2.py3-none-any.whl size=317425344 sha256=e8a0f4c4b9f63ba8cced6f2a4fc697a5c1e05427578715a7d603f14ccf134ccb\n",
            "  Stored in directory: /root/.cache/pip/wheels/41/4e/10/c2cf2467f71c678cfc8a6b9ac9241e5e44a01940da8fbb17fc\n",
            "Successfully built pyspark\n",
            "Installing collected packages: pyspark\n",
            "Successfully installed pyspark-3.5.0\n"
          ]
        }
      ],
      "source": [
        "! pip install pyspark"
      ]
    },
    {
      "cell_type": "code",
      "source": [
        "from pyspark.sql.types import (StringType,StructField,\n",
        "                               StructType,IntegerType,\n",
        "                               ArrayType,MapType)\n",
        "from pyspark.sql import SparkSession\n",
        "\n",
        "from pyspark.sql.functions import col,explode,split\n",
        "from pyspark.sql.functions import col,lit,when,expr\n",
        "\n"
      ],
      "metadata": {
        "id": "scx5mMOndrzt"
      },
      "execution_count": 2,
      "outputs": []
    },
    {
      "cell_type": "code",
      "source": [
        "spark = SparkSession.builder.appName('MapType_Column').getOrCreate()"
      ],
      "metadata": {
        "id": "j39_FttAdtS9"
      },
      "execution_count": 3,
      "outputs": []
    },
    {
      "cell_type": "code",
      "source": [
        "from os import truncate\n",
        "data = [('Arjun',{'hair': 'black', 'eye': 'brown'}),\\\n",
        "        ('Micheal',{'hair': 'black', 'eye':'blue'})]\n",
        "\n",
        "schema = ['Emp_name','properties']\n",
        "df = spark.createDataFrame(data,schema)\n",
        "df.show(truncate=False)\n",
        "df.printSchema()"
      ],
      "metadata": {
        "colab": {
          "base_uri": "https://localhost:8080/"
        },
        "id": "mFQIoGlZdu5k",
        "outputId": "e15773a5-78ba-40f9-bb6f-653654a0cc09"
      },
      "execution_count": 4,
      "outputs": [
        {
          "output_type": "stream",
          "name": "stdout",
          "text": [
            "+--------+-----------------------------+\n",
            "|Emp_name|properties                   |\n",
            "+--------+-----------------------------+\n",
            "|Arjun   |{eye -> brown, hair -> black}|\n",
            "|Micheal |{eye -> blue, hair -> black} |\n",
            "+--------+-----------------------------+\n",
            "\n",
            "root\n",
            " |-- Emp_name: string (nullable = true)\n",
            " |-- properties: map (nullable = true)\n",
            " |    |-- key: string\n",
            " |    |-- value: string (valueContainsNull = true)\n",
            "\n"
          ]
        }
      ]
    },
    {
      "cell_type": "code",
      "source": [
        "df.select('Emp_name',explode('properties')).show()"
      ],
      "metadata": {
        "colab": {
          "base_uri": "https://localhost:8080/"
        },
        "id": "jq9LstKweJcf",
        "outputId": "22f7c0cd-cb5b-4130-cbb4-5ebb0a2d3355"
      },
      "execution_count": 8,
      "outputs": [
        {
          "output_type": "stream",
          "name": "stdout",
          "text": [
            "+--------+----+-----+\n",
            "|Emp_name| key|value|\n",
            "+--------+----+-----+\n",
            "|   Arjun| eye|brown|\n",
            "|   Arjun|hair|black|\n",
            "| Micheal| eye| blue|\n",
            "| Micheal|hair|black|\n",
            "+--------+----+-----+\n",
            "\n"
          ]
        }
      ]
    },
    {
      "cell_type": "code",
      "source": [],
      "metadata": {
        "id": "wwuHsxQuep-F"
      },
      "execution_count": null,
      "outputs": []
    },
    {
      "cell_type": "markdown",
      "source": [
        "## Map_keys() & Map_values()"
      ],
      "metadata": {
        "id": "0atjehegeqvN"
      }
    },
    {
      "cell_type": "code",
      "source": [
        "from pyspark.sql.functions import map_keys,map_values"
      ],
      "metadata": {
        "id": "U3wtE1Exeui7"
      },
      "execution_count": 9,
      "outputs": []
    },
    {
      "cell_type": "code",
      "source": [
        "df.select('Emp_name',map_keys('properties')).show()"
      ],
      "metadata": {
        "colab": {
          "base_uri": "https://localhost:8080/"
        },
        "id": "RTrEqJcEe6GE",
        "outputId": "b7d9191f-7a7b-4712-b899-92596643bec3"
      },
      "execution_count": 10,
      "outputs": [
        {
          "output_type": "stream",
          "name": "stdout",
          "text": [
            "+--------+--------------------+\n",
            "|Emp_name|map_keys(properties)|\n",
            "+--------+--------------------+\n",
            "|   Arjun|         [eye, hair]|\n",
            "| Micheal|         [eye, hair]|\n",
            "+--------+--------------------+\n",
            "\n"
          ]
        }
      ]
    },
    {
      "cell_type": "code",
      "source": [
        "print('print dataframe with keys')\n",
        "df.select('Emp_name',map_keys(df.properties)).show()\n",
        "\n",
        "print('-'.join('' for x in range(200)))\n",
        "print('print dataframe with values')\n",
        "df.select('Emp_name',map_values(df.properties)).show()\n",
        "print('-'.join('' for x in range(200)))"
      ],
      "metadata": {
        "colab": {
          "base_uri": "https://localhost:8080/"
        },
        "id": "rgTvMHuFfH6G",
        "outputId": "49557f9c-905e-4c4d-bdf9-a78e3ea65be0"
      },
      "execution_count": 21,
      "outputs": [
        {
          "output_type": "stream",
          "name": "stdout",
          "text": [
            "print dataframe with keys\n",
            "+--------+--------------------+\n",
            "|Emp_name|map_keys(properties)|\n",
            "+--------+--------------------+\n",
            "|   Arjun|         [eye, hair]|\n",
            "| Micheal|         [eye, hair]|\n",
            "+--------+--------------------+\n",
            "\n",
            "-------------------------------------------------------------------------------------------------------------------------------------------------------------------------------------------------------\n",
            "print dataframe with values\n",
            "+--------+----------------------+\n",
            "|Emp_name|map_values(properties)|\n",
            "+--------+----------------------+\n",
            "|   Arjun|        [brown, black]|\n",
            "| Micheal|         [blue, black]|\n",
            "+--------+----------------------+\n",
            "\n",
            "-------------------------------------------------------------------------------------------------------------------------------------------------------------------------------------------------------\n"
          ]
        }
      ]
    },
    {
      "cell_type": "code",
      "source": [],
      "metadata": {
        "id": "5Oku8XPdfV5U"
      },
      "execution_count": null,
      "outputs": []
    }
  ]
}