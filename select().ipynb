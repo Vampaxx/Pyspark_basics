{
  "nbformat": 4,
  "nbformat_minor": 0,
  "metadata": {
    "colab": {
      "provenance": [],
      "authorship_tag": "ABX9TyP8IO8UTWWkjiWxNFTFaZ3o",
      "include_colab_link": true
    },
    "kernelspec": {
      "name": "python3",
      "display_name": "Python 3"
    },
    "language_info": {
      "name": "python"
    }
  },
  "cells": [
    {
      "cell_type": "markdown",
      "metadata": {
        "id": "view-in-github",
        "colab_type": "text"
      },
      "source": [
        "<a href=\"https://colab.research.google.com/github/Vampaxx/Pyspark_basics/blob/main/select().ipynb\" target=\"_parent\"><img src=\"https://colab.research.google.com/assets/colab-badge.svg\" alt=\"Open In Colab\"/></a>"
      ]
    },
    {
      "cell_type": "code",
      "execution_count": 4,
      "metadata": {
        "colab": {
          "base_uri": "https://localhost:8080/"
        },
        "id": "mEH0x1g5YGYJ",
        "outputId": "2970e4d9-0636-4250-e78d-79c6cad60470"
      },
      "outputs": [
        {
          "output_type": "stream",
          "name": "stdout",
          "text": [
            "Requirement already satisfied: pyspark in /usr/local/lib/python3.10/dist-packages (3.5.0)\n",
            "Requirement already satisfied: py4j==0.10.9.7 in /usr/local/lib/python3.10/dist-packages (from pyspark) (0.10.9.7)\n"
          ]
        }
      ],
      "source": [
        "! pip install pyspark"
      ]
    },
    {
      "cell_type": "code",
      "source": [
        "from pyspark.sql.types import (StringType,StructField,\n",
        "                               StructType,IntegerType,\n",
        "                               ArrayType,MapType)\n",
        "from pyspark.sql import SparkSession\n",
        "\n",
        "from pyspark.sql.functions import col,explode,split\n",
        "from pyspark.sql.functions import col,lit,when,expr,avg,max,round\n",
        "\n"
      ],
      "metadata": {
        "id": "i0jkFH_EYG3X"
      },
      "execution_count": 5,
      "outputs": []
    },
    {
      "cell_type": "code",
      "source": [
        "spark  = SparkSession.builder.appName('select').getOrCreate()"
      ],
      "metadata": {
        "id": "LTjjGQ6dYKBf"
      },
      "execution_count": 6,
      "outputs": []
    },
    {
      "cell_type": "code",
      "source": [],
      "metadata": {
        "id": "T45g6LnrYML3"
      },
      "execution_count": 6,
      "outputs": []
    },
    {
      "cell_type": "markdown",
      "source": [
        "## Select()\n",
        "\n",
        "**select()** function is used to select single, multiple, column by index, all column from the list and nested columns from dataframe\n"
      ],
      "metadata": {
        "id": "YHWlyZs5bLSu"
      }
    },
    {
      "cell_type": "code",
      "source": [
        "data = [\n",
        "    (1,'Micheal','Male',2500),\n",
        "    (2,'Jackson','Male',1245),\n",
        "    (3,'Mia','Female',781)\n",
        "]\n",
        "schema = ['Emp_id','Emp_name','Gender','Salary']\n",
        "\n",
        "df = spark.createDataFrame(data,schema)\n",
        "df.show()"
      ],
      "metadata": {
        "colab": {
          "base_uri": "https://localhost:8080/"
        },
        "id": "I_whmKjcbd04",
        "outputId": "d114b0ca-b538-40b3-cd5e-c5c70a6eddf4"
      },
      "execution_count": 7,
      "outputs": [
        {
          "output_type": "stream",
          "name": "stdout",
          "text": [
            "+------+--------+------+------+\n",
            "|Emp_id|Emp_name|Gender|Salary|\n",
            "+------+--------+------+------+\n",
            "|     1| Micheal|  Male|  2500|\n",
            "|     2| Jackson|  Male|  1245|\n",
            "|     3|     Mia|Female|   781|\n",
            "+------+--------+------+------+\n",
            "\n"
          ]
        }
      ]
    },
    {
      "cell_type": "code",
      "source": [
        "## select single or multiple columns\n",
        "\n",
        "df.select('Emp_id','Emp_name').show()\n",
        "\n",
        "df.select(df.Emp_id,df.Emp_name).show()\n",
        "\n",
        "df.select(df['Emp_id'],df['Emp_name']).show()\n",
        "\n",
        "# by using col() functions\n",
        "\n",
        "df.select(col('Emp_id'),col('Emp_name')).show()\n",
        "\n",
        "df.select(['Emp_id','Emp_name']).show()"
      ],
      "metadata": {
        "colab": {
          "base_uri": "https://localhost:8080/"
        },
        "id": "cOs93OFXcApo",
        "outputId": "4e1c6516-589d-4ba6-8d35-5af66904b4ef"
      },
      "execution_count": 8,
      "outputs": [
        {
          "output_type": "stream",
          "name": "stdout",
          "text": [
            "+------+--------+\n",
            "|Emp_id|Emp_name|\n",
            "+------+--------+\n",
            "|     1| Micheal|\n",
            "|     2| Jackson|\n",
            "|     3|     Mia|\n",
            "+------+--------+\n",
            "\n",
            "+------+--------+\n",
            "|Emp_id|Emp_name|\n",
            "+------+--------+\n",
            "|     1| Micheal|\n",
            "|     2| Jackson|\n",
            "|     3|     Mia|\n",
            "+------+--------+\n",
            "\n",
            "+------+--------+\n",
            "|Emp_id|Emp_name|\n",
            "+------+--------+\n",
            "|     1| Micheal|\n",
            "|     2| Jackson|\n",
            "|     3|     Mia|\n",
            "+------+--------+\n",
            "\n",
            "+------+--------+\n",
            "|Emp_id|Emp_name|\n",
            "+------+--------+\n",
            "|     1| Micheal|\n",
            "|     2| Jackson|\n",
            "|     3|     Mia|\n",
            "+------+--------+\n",
            "\n",
            "+------+--------+\n",
            "|Emp_id|Emp_name|\n",
            "+------+--------+\n",
            "|     1| Micheal|\n",
            "|     2| Jackson|\n",
            "|     3|     Mia|\n",
            "+------+--------+\n",
            "\n"
          ]
        }
      ]
    },
    {
      "cell_type": "code",
      "source": [
        "df.select([col for col in df.columns]).show()\n",
        "\n",
        "df.select('*').show()"
      ],
      "metadata": {
        "colab": {
          "base_uri": "https://localhost:8080/"
        },
        "id": "C1D3MYWHcnro",
        "outputId": "e433f5c8-a2ca-421a-b4c8-807351038293"
      },
      "execution_count": 10,
      "outputs": [
        {
          "output_type": "stream",
          "name": "stdout",
          "text": [
            "+------+--------+------+------+\n",
            "|Emp_id|Emp_name|Gender|Salary|\n",
            "+------+--------+------+------+\n",
            "|     1| Micheal|  Male|  2500|\n",
            "|     2| Jackson|  Male|  1245|\n",
            "|     3|     Mia|Female|   781|\n",
            "+------+--------+------+------+\n",
            "\n",
            "+------+--------+------+------+\n",
            "|Emp_id|Emp_name|Gender|Salary|\n",
            "+------+--------+------+------+\n",
            "|     1| Micheal|  Male|  2500|\n",
            "|     2| Jackson|  Male|  1245|\n",
            "|     3|     Mia|Female|   781|\n",
            "+------+--------+------+------+\n",
            "\n"
          ]
        }
      ]
    },
    {
      "cell_type": "code",
      "source": [],
      "metadata": {
        "id": "diwZ87Dvc5wY"
      },
      "execution_count": null,
      "outputs": []
    },
    {
      "cell_type": "code",
      "source": [],
      "metadata": {
        "id": "amX2hnmec0nI"
      },
      "execution_count": null,
      "outputs": []
    }
  ]
}