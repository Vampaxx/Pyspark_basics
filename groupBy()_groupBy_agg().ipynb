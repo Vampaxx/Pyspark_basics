{
  "nbformat": 4,
  "nbformat_minor": 0,
  "metadata": {
    "colab": {
      "provenance": [],
      "mount_file_id": "1LK18ivHvFqfwr5Rvda4QKkhxoYRYrfYC",
      "authorship_tag": "ABX9TyNFZ/MKxBkRsAvWmrtgSv5j",
      "include_colab_link": true
    },
    "kernelspec": {
      "name": "python3",
      "display_name": "Python 3"
    },
    "language_info": {
      "name": "python"
    }
  },
  "cells": [
    {
      "cell_type": "markdown",
      "metadata": {
        "id": "view-in-github",
        "colab_type": "text"
      },
      "source": [
        "<a href=\"https://colab.research.google.com/github/Vampaxx/Pyspark_basics/blob/main/groupBy()_groupBy_agg().ipynb\" target=\"_parent\"><img src=\"https://colab.research.google.com/assets/colab-badge.svg\" alt=\"Open In Colab\"/></a>"
      ]
    },
    {
      "cell_type": "code",
      "execution_count": 1,
      "metadata": {
        "colab": {
          "base_uri": "https://localhost:8080/"
        },
        "id": "H7mMatnONk0B",
        "outputId": "d8dd15a2-fa66-45ab-af61-9f9913df7d2f"
      },
      "outputs": [
        {
          "output_type": "stream",
          "name": "stdout",
          "text": [
            "Collecting pyspark\n",
            "  Downloading pyspark-3.5.0.tar.gz (316.9 MB)\n",
            "\u001b[2K     \u001b[90m━━━━━━━━━━━━━━━━━━━━━━━━━━━━━━━━━━━━━━━━\u001b[0m \u001b[32m316.9/316.9 MB\u001b[0m \u001b[31m4.6 MB/s\u001b[0m eta \u001b[36m0:00:00\u001b[0m\n",
            "\u001b[?25h  Preparing metadata (setup.py) ... \u001b[?25l\u001b[?25hdone\n",
            "Requirement already satisfied: py4j==0.10.9.7 in /usr/local/lib/python3.10/dist-packages (from pyspark) (0.10.9.7)\n",
            "Building wheels for collected packages: pyspark\n",
            "  Building wheel for pyspark (setup.py) ... \u001b[?25l\u001b[?25hdone\n",
            "  Created wheel for pyspark: filename=pyspark-3.5.0-py2.py3-none-any.whl size=317425344 sha256=0eb483d63daa58f45c2fa471d65c17511904d750a926709eaeda6a3424b77a07\n",
            "  Stored in directory: /root/.cache/pip/wheels/41/4e/10/c2cf2467f71c678cfc8a6b9ac9241e5e44a01940da8fbb17fc\n",
            "Successfully built pyspark\n",
            "Installing collected packages: pyspark\n",
            "Successfully installed pyspark-3.5.0\n"
          ]
        }
      ],
      "source": [
        "! pip install pyspark"
      ]
    },
    {
      "cell_type": "code",
      "source": [
        "from pyspark.sql.types import (StringType,StructField,\n",
        "                               StructType,IntegerType,\n",
        "                               ArrayType,MapType)\n",
        "from pyspark.sql import SparkSession\n",
        "\n",
        "from pyspark.sql.functions import col,explode,split\n",
        "from pyspark.sql.functions import col,lit,when,expr,avg,max,round\n",
        "\n"
      ],
      "metadata": {
        "id": "RVJp0yKwNlPo"
      },
      "execution_count": 48,
      "outputs": []
    },
    {
      "cell_type": "code",
      "source": [
        "spark  = SparkSession.builder.appName('groupBy &groupByagg').getOrCreate()"
      ],
      "metadata": {
        "id": "jL4mg_63NqR7"
      },
      "execution_count": 3,
      "outputs": []
    },
    {
      "cell_type": "code",
      "source": [],
      "metadata": {
        "id": "g11Xjf0-OGK_"
      },
      "execution_count": 3,
      "outputs": []
    },
    {
      "cell_type": "markdown",
      "source": [
        "## GroupBy()\n",
        "\n",
        "Its similar to SQL GROUP BY clause, pyspark groupBy() function is used to collect the identical data into groups on Dataframe and perform count, sum,avg,min, max on the grouped data"
      ],
      "metadata": {
        "id": "d-mj3f8rOGjJ"
      }
    },
    {
      "cell_type": "code",
      "source": [
        "data = [\n",
        "    (1,'Micheal','Male',2312,'IT'),\\\n",
        "    (2,'Jackson','Male',1245,'HR'),\\\n",
        "    (3,'Mithila','Female',1451,'HR'),\\\n",
        "    (4,'Daniel','Female',641,'R&D'),\\\n",
        "    (5,'Johnson','Male',5645,'Payroll'),\\\n",
        "    (6,'Rajeev','Male',1245,'HR'),\\\n",
        "    (7,'Aishwarya','Female',5645,'IT'),\\\n",
        "    (8,'Rachel','Female',2345,'R&D'),\\\n",
        "    (9,'Akhil sharma', 'Male',35789,'Payroll')\n",
        "]\n",
        "\n",
        "schema = ['Emp_id','Emp_name','Gender','Salary','Department']\n",
        "\n",
        "df = spark.createDataFrame(data,schema)\n",
        "df.show()\n"
      ],
      "metadata": {
        "colab": {
          "base_uri": "https://localhost:8080/"
        },
        "id": "GwBflTKbNvZI",
        "outputId": "7571c84e-d365-4743-9431-5581f99c7599"
      },
      "execution_count": 4,
      "outputs": [
        {
          "output_type": "stream",
          "name": "stdout",
          "text": [
            "+------+------------+------+------+----------+\n",
            "|Emp_id|    Emp_name|Gender|Salary|Department|\n",
            "+------+------------+------+------+----------+\n",
            "|     1|     Micheal|  Male|  2312|        IT|\n",
            "|     2|     Jackson|  Male|  1245|        HR|\n",
            "|     3|     Mithila|Female|  1451|        HR|\n",
            "|     4|      Daniel|Female|   641|       R&D|\n",
            "|     5|     Johnson|  Male|  5645|   Payroll|\n",
            "|     6|      Rajeev|  Male|  1245|        HR|\n",
            "|     7|   Aishwarya|Female|  5645|        IT|\n",
            "|     8|      Rachel|Female|  2345|       R&D|\n",
            "|     9|Akhil sharma|  Male| 35789|   Payroll|\n",
            "+------+------------+------+------+----------+\n",
            "\n"
          ]
        }
      ]
    },
    {
      "cell_type": "code",
      "source": [
        "df = spark.read.csv(path='/content/drive/MyDrive/Pyspark/datas/Clean_Dataset.csv',header=True,inferSchema=True)\n",
        "df = df.withColumnRenamed('_c0','Id')\n",
        "df.show(5)"
      ],
      "metadata": {
        "colab": {
          "base_uri": "https://localhost:8080/"
        },
        "id": "5ABeqN2UPheh",
        "outputId": "74425904-7157-4a1a-b83e-a65412382be6"
      },
      "execution_count": 10,
      "outputs": [
        {
          "output_type": "stream",
          "name": "stdout",
          "text": [
            "+---+--------+-------+-----------+--------------+-----+-------------+----------------+-------+--------+---------+-----+\n",
            "| Id| airline| flight|source_city|departure_time|stops| arrival_time|destination_city|  class|duration|days_left|price|\n",
            "+---+--------+-------+-----------+--------------+-----+-------------+----------------+-------+--------+---------+-----+\n",
            "|  0|SpiceJet|SG-8709|      Delhi|       Evening| zero|        Night|          Mumbai|Economy|    2.17|        1| 5953|\n",
            "|  1|SpiceJet|SG-8157|      Delhi| Early_Morning| zero|      Morning|          Mumbai|Economy|    2.33|        1| 5953|\n",
            "|  2| AirAsia| I5-764|      Delhi| Early_Morning| zero|Early_Morning|          Mumbai|Economy|    2.17|        1| 5956|\n",
            "|  3| Vistara| UK-995|      Delhi|       Morning| zero|    Afternoon|          Mumbai|Economy|    2.25|        1| 5955|\n",
            "|  4| Vistara| UK-963|      Delhi|       Morning| zero|      Morning|          Mumbai|Economy|    2.33|        1| 5955|\n",
            "+---+--------+-------+-----------+--------------+-----+-------------+----------------+-------+--------+---------+-----+\n",
            "only showing top 5 rows\n",
            "\n"
          ]
        }
      ]
    },
    {
      "cell_type": "code",
      "source": [
        "## max price of ticket based on the airline company\n",
        "\n",
        "df.groupBy('airline')\\\n",
        "  .max('price').show()"
      ],
      "metadata": {
        "colab": {
          "base_uri": "https://localhost:8080/"
        },
        "id": "21eF_b3DP_6U",
        "outputId": "c9a5e1c8-06b4-42d8-d3f5-2e66db0425a0"
      },
      "execution_count": 39,
      "outputs": [
        {
          "output_type": "stream",
          "name": "stdout",
          "text": [
            "+---------+----------+\n",
            "|  airline|max(price)|\n",
            "+---------+----------+\n",
            "|   Indigo|     31952|\n",
            "| SpiceJet|     34158|\n",
            "|Air_India|     90970|\n",
            "|  AirAsia|     31917|\n",
            "| GO_FIRST|     32803|\n",
            "|  Vistara|    123071|\n",
            "+---------+----------+\n",
            "\n"
          ]
        }
      ]
    },
    {
      "cell_type": "code",
      "source": [],
      "metadata": {
        "id": "CNl0yBMGZaae"
      },
      "execution_count": null,
      "outputs": []
    },
    {
      "cell_type": "markdown",
      "source": [
        "## Renaming the aggregate column\n"
      ],
      "metadata": {
        "id": "4zxy-9q1Zfde"
      }
    },
    {
      "cell_type": "code",
      "source": [
        "## method 1\n",
        "\n",
        "df.groupBy('airline')\\\n",
        "  .max('price')\\\n",
        "  .withColumnRenamed('max(price)','max_ticket_price').show()\n",
        "\n",
        "## method 2\n",
        "\n",
        "result_df = df.groupBy(\"airline\")\\\n",
        "    .agg(max('price').alias('max_ticket_price'))\n",
        "\n",
        "result_df.show()"
      ],
      "metadata": {
        "colab": {
          "base_uri": "https://localhost:8080/"
        },
        "id": "MhcqiKjjZkq2",
        "outputId": "5eeeaa61-8cd4-491a-eb74-eaa5ca806dee"
      },
      "execution_count": 46,
      "outputs": [
        {
          "output_type": "stream",
          "name": "stdout",
          "text": [
            "+---------+----------------+\n",
            "|  airline|max_ticket_price|\n",
            "+---------+----------------+\n",
            "|   Indigo|           31952|\n",
            "| SpiceJet|           34158|\n",
            "|Air_India|           90970|\n",
            "|  AirAsia|           31917|\n",
            "| GO_FIRST|           32803|\n",
            "|  Vistara|          123071|\n",
            "+---------+----------------+\n",
            "\n",
            "+---------+----------------+\n",
            "|  airline|max_ticket_price|\n",
            "+---------+----------------+\n",
            "|   Indigo|           31952|\n",
            "| SpiceJet|           34158|\n",
            "|Air_India|           90970|\n",
            "|  AirAsia|           31917|\n",
            "| GO_FIRST|           32803|\n",
            "|  Vistara|          123071|\n",
            "+---------+----------------+\n",
            "\n"
          ]
        }
      ]
    },
    {
      "cell_type": "markdown",
      "source": [
        "## Returning multiple aggregate in same dataframes"
      ],
      "metadata": {
        "id": "yWigNGTycAGV"
      }
    },
    {
      "cell_type": "code",
      "source": [
        "\n",
        "\n",
        "df.groupBy('airline').agg(\n",
        "    round(max('price'),2).alias('max_ticket_price'),\n",
        "    round(avg('price'),2).alias('avg_ticket_price')\n",
        ").show()"
      ],
      "metadata": {
        "colab": {
          "base_uri": "https://localhost:8080/"
        },
        "id": "hSYUk19ZaK9t",
        "outputId": "5d1ebd82-db0d-492a-c775-2d17ab9aba17"
      },
      "execution_count": 51,
      "outputs": [
        {
          "output_type": "stream",
          "name": "stdout",
          "text": [
            "+---------+----------------+----------------+\n",
            "|  airline|max_ticket_price|avg_ticket_price|\n",
            "+---------+----------------+----------------+\n",
            "|   Indigo|           31952|         5324.22|\n",
            "| SpiceJet|           34158|         6179.28|\n",
            "|Air_India|           90970|        23507.02|\n",
            "|  AirAsia|           31917|         4091.07|\n",
            "| GO_FIRST|           32803|         5652.01|\n",
            "|  Vistara|          123071|        30396.54|\n",
            "+---------+----------------+----------------+\n",
            "\n"
          ]
        }
      ]
    },
    {
      "cell_type": "markdown",
      "source": [
        "## Filtering on aggregate (like SQL HAVING statement)"
      ],
      "metadata": {
        "id": "eJRVo2-YcP7l"
      }
    },
    {
      "cell_type": "code",
      "source": [
        "df.groupBy('airline').agg(\n",
        "    round(max('price'),2).alias('max_ticket_price'),\n",
        "    round(avg('price'),2).alias('avg_ticket_price')\n",
        ").where(col('avg_ticket_price')>=10000).show()"
      ],
      "metadata": {
        "colab": {
          "base_uri": "https://localhost:8080/"
        },
        "id": "TztsiLUQb6_d",
        "outputId": "f790e6e3-bb8c-401b-dcd1-2d13a5cbf5d4"
      },
      "execution_count": 55,
      "outputs": [
        {
          "output_type": "stream",
          "name": "stdout",
          "text": [
            "+---------+----------------+----------------+\n",
            "|  airline|max_ticket_price|avg_ticket_price|\n",
            "+---------+----------------+----------------+\n",
            "|Air_India|           90970|        23507.02|\n",
            "|  Vistara|          123071|        30396.54|\n",
            "+---------+----------------+----------------+\n",
            "\n"
          ]
        }
      ]
    },
    {
      "cell_type": "markdown",
      "source": [
        "## Grouping by multiple columns"
      ],
      "metadata": {
        "id": "ioslufrFdJxd"
      }
    },
    {
      "cell_type": "code",
      "source": [
        "df.groupBy(['airline','class']).agg(\n",
        "    round(avg('duration'),2).alias('avg_duration_of_flight')\n",
        ").show()\n",
        ""
      ],
      "metadata": {
        "colab": {
          "base_uri": "https://localhost:8080/"
        },
        "id": "SC8UzBk4dOlz",
        "outputId": "fd410f66-3e8e-4186-86b3-a03e59e8bd17"
      },
      "execution_count": 61,
      "outputs": [
        {
          "output_type": "stream",
          "name": "stdout",
          "text": [
            "+---------+--------+----------------------+\n",
            "|  airline|   class|avg_duration_of_flight|\n",
            "+---------+--------+----------------------+\n",
            "|  AirAsia| Economy|                  8.94|\n",
            "|Air_India| Economy|                  16.1|\n",
            "| GO_FIRST| Economy|                  8.76|\n",
            "|  Vistara| Economy|                 13.44|\n",
            "| SpiceJet| Economy|                 12.58|\n",
            "|   Indigo| Economy|                   5.8|\n",
            "|Air_India|Business|                 14.63|\n",
            "|  Vistara|Business|                  13.2|\n",
            "+---------+--------+----------------------+\n",
            "\n"
          ]
        }
      ]
    },
    {
      "cell_type": "code",
      "source": [],
      "metadata": {
        "id": "fIvUIyhBdcJ1"
      },
      "execution_count": null,
      "outputs": []
    },
    {
      "cell_type": "code",
      "source": [],
      "metadata": {
        "id": "E05kpU0rc431"
      },
      "execution_count": null,
      "outputs": []
    },
    {
      "cell_type": "code",
      "source": [],
      "metadata": {
        "id": "g0EUeuVlbZpW"
      },
      "execution_count": null,
      "outputs": []
    },
    {
      "cell_type": "code",
      "source": [],
      "metadata": {
        "id": "jief-MQHZ0Pm"
      },
      "execution_count": null,
      "outputs": []
    },
    {
      "cell_type": "code",
      "source": [],
      "metadata": {
        "id": "O3yGxTbIMwvV"
      },
      "execution_count": null,
      "outputs": []
    },
    {
      "cell_type": "code",
      "source": [],
      "metadata": {
        "id": "UfcYPuuyMfOX"
      },
      "execution_count": null,
      "outputs": []
    },
    {
      "cell_type": "code",
      "source": [],
      "metadata": {
        "id": "TOO6ip1ZMYon"
      },
      "execution_count": null,
      "outputs": []
    },
    {
      "cell_type": "code",
      "source": [],
      "metadata": {
        "id": "Z408hy3pMQLO"
      },
      "execution_count": null,
      "outputs": []
    },
    {
      "cell_type": "code",
      "source": [],
      "metadata": {
        "id": "c38IDOXmL_3O"
      },
      "execution_count": null,
      "outputs": []
    },
    {
      "cell_type": "code",
      "source": [],
      "metadata": {
        "id": "zi3DAReTZ0ZV"
      },
      "execution_count": 4,
      "outputs": []
    },
    {
      "cell_type": "code",
      "source": [],
      "metadata": {
        "id": "uMg4veoHYcpk"
      },
      "execution_count": 4,
      "outputs": []
    },
    {
      "cell_type": "code",
      "source": [],
      "metadata": {
        "id": "GlAfU9JuYPpU"
      },
      "execution_count": 4,
      "outputs": []
    },
    {
      "cell_type": "code",
      "source": [],
      "metadata": {
        "id": "PsaU3ApAPNcI"
      },
      "execution_count": 4,
      "outputs": []
    },
    {
      "cell_type": "code",
      "source": [],
      "metadata": {
        "id": "KsnaCXGwPKdA"
      },
      "execution_count": 4,
      "outputs": []
    },
    {
      "cell_type": "code",
      "source": [],
      "metadata": {
        "id": "lXcz9xS9PCzN"
      },
      "execution_count": 4,
      "outputs": []
    }
  ]
}