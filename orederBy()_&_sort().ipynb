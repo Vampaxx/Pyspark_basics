{
  "nbformat": 4,
  "nbformat_minor": 0,
  "metadata": {
    "colab": {
      "provenance": [],
      "authorship_tag": "ABX9TyMKxlEo5EAVugixPLNWyszT",
      "include_colab_link": true
    },
    "kernelspec": {
      "name": "python3",
      "display_name": "Python 3"
    },
    "language_info": {
      "name": "python"
    }
  },
  "cells": [
    {
      "cell_type": "markdown",
      "metadata": {
        "id": "view-in-github",
        "colab_type": "text"
      },
      "source": [
        "<a href=\"https://colab.research.google.com/github/Vampaxx/Pyspark_basics/blob/main/orederBy()_%26_sort().ipynb\" target=\"_parent\"><img src=\"https://colab.research.google.com/assets/colab-badge.svg\" alt=\"Open In Colab\"/></a>"
      ]
    },
    {
      "cell_type": "code",
      "execution_count": 1,
      "metadata": {
        "colab": {
          "base_uri": "https://localhost:8080/"
        },
        "id": "_OnS6U_PqbEM",
        "outputId": "d5118852-b602-4ff9-d978-934e1111ef70"
      },
      "outputs": [
        {
          "output_type": "stream",
          "name": "stdout",
          "text": [
            "Collecting pyspark\n",
            "  Downloading pyspark-3.5.0.tar.gz (316.9 MB)\n",
            "\u001b[2K     \u001b[90m━━━━━━━━━━━━━━━━━━━━━━━━━━━━━━━━━━━━━━━━\u001b[0m \u001b[32m316.9/316.9 MB\u001b[0m \u001b[31m2.0 MB/s\u001b[0m eta \u001b[36m0:00:00\u001b[0m\n",
            "\u001b[?25h  Preparing metadata (setup.py) ... \u001b[?25l\u001b[?25hdone\n",
            "Requirement already satisfied: py4j==0.10.9.7 in /usr/local/lib/python3.10/dist-packages (from pyspark) (0.10.9.7)\n",
            "Building wheels for collected packages: pyspark\n",
            "  Building wheel for pyspark (setup.py) ... \u001b[?25l\u001b[?25hdone\n",
            "  Created wheel for pyspark: filename=pyspark-3.5.0-py2.py3-none-any.whl size=317425344 sha256=ec6fbbbd94758da65ef199ffd8c6c37b729adb2669e565b288075fec6ee0f591\n",
            "  Stored in directory: /root/.cache/pip/wheels/41/4e/10/c2cf2467f71c678cfc8a6b9ac9241e5e44a01940da8fbb17fc\n",
            "Successfully built pyspark\n",
            "Installing collected packages: pyspark\n",
            "Successfully installed pyspark-3.5.0\n"
          ]
        }
      ],
      "source": [
        "! pip install pyspark"
      ]
    },
    {
      "cell_type": "code",
      "source": [
        "from pyspark.sql.types import (StringType,StructField,\n",
        "                               StructType,IntegerType,\n",
        "                               ArrayType,MapType)\n",
        "from pyspark.sql import SparkSession\n",
        "\n",
        "from pyspark.sql.functions import col,explode,split\n",
        "from pyspark.sql.functions import col,lit,when,expr\n",
        "\n"
      ],
      "metadata": {
        "id": "-RjqcwR6uVSC"
      },
      "execution_count": 2,
      "outputs": []
    },
    {
      "cell_type": "code",
      "source": [
        "spark  = SparkSession.builder.appName('orderBy_&_sort()').getOrCreate()"
      ],
      "metadata": {
        "id": "Xy6JR-swuoEf"
      },
      "execution_count": 4,
      "outputs": []
    },
    {
      "cell_type": "code",
      "source": [],
      "metadata": {
        "id": "nMIqDOyju5AY"
      },
      "execution_count": null,
      "outputs": []
    },
    {
      "cell_type": "markdown",
      "source": [
        "## orderBy() & sort()\n",
        "\n",
        "- You can use either sort() or orderBy() function of Pyspark DataFrame to sort Dataframe by ascending or descending order based on single or multiple columns\n",
        "\n",
        "- By default , sorting will happen in ascending oreder. We can explicity mention ascending or descending using asc() ,desc() functions."
      ],
      "metadata": {
        "id": "c81Ks4W3u8lQ"
      }
    },
    {
      "cell_type": "code",
      "source": [
        "data = [\n",
        "    (1,'Micheal','Male',2312,'IT'),\\\n",
        "    (2,'Jackson','Male',1245,'HR'),\\\n",
        "    (3,'Mithila','Female',1451,'HR'),\\\n",
        "    (4,'Daniel','Female',641,'R&D'),\\\n",
        "    (5,'Johnson','Male',5645,'Payroll')\n",
        "]\n",
        "\n",
        "schema = ['Emp_id','Emp_name','Gender','Salary','Department']\n",
        "\n",
        "df = spark.createDataFrame(data,schema)\n",
        "df.show()"
      ],
      "metadata": {
        "colab": {
          "base_uri": "https://localhost:8080/"
        },
        "id": "5lDygbVxvnBQ",
        "outputId": "087702a8-6390-4462-d25b-b9cbc566644d"
      },
      "execution_count": 5,
      "outputs": [
        {
          "output_type": "stream",
          "name": "stdout",
          "text": [
            "+------+--------+------+------+----------+\n",
            "|Emp_id|Emp_name|Gender|Salary|Department|\n",
            "+------+--------+------+------+----------+\n",
            "|     1| Micheal|  Male|  2312|        IT|\n",
            "|     2| Jackson|  Male|  1245|        HR|\n",
            "|     3| Mithila|Female|  1451|        HR|\n",
            "|     4|  Daniel|Female|   641|       R&D|\n",
            "|     5| Johnson|  Male|  5645|   Payroll|\n",
            "+------+--------+------+------+----------+\n",
            "\n"
          ]
        }
      ]
    },
    {
      "cell_type": "code",
      "source": [
        "df.sort('Department','Salary').show()"
      ],
      "metadata": {
        "colab": {
          "base_uri": "https://localhost:8080/"
        },
        "id": "8joy3TZ79eFh",
        "outputId": "89249ffd-278a-49f4-ae53-2e5c58344a82"
      },
      "execution_count": 7,
      "outputs": [
        {
          "output_type": "stream",
          "name": "stdout",
          "text": [
            "+------+--------+------+------+----------+\n",
            "|Emp_id|Emp_name|Gender|Salary|Department|\n",
            "+------+--------+------+------+----------+\n",
            "|     2| Jackson|  Male|  1245|        HR|\n",
            "|     3| Mithila|Female|  1451|        HR|\n",
            "|     1| Micheal|  Male|  2312|        IT|\n",
            "|     5| Johnson|  Male|  5645|   Payroll|\n",
            "|     4|  Daniel|Female|   641|       R&D|\n",
            "+------+--------+------+------+----------+\n",
            "\n"
          ]
        }
      ]
    },
    {
      "cell_type": "code",
      "source": [
        "## sort the Salary column in ascending order\n",
        "\n",
        "df.sort(df.Salary.desc()).show()"
      ],
      "metadata": {
        "colab": {
          "base_uri": "https://localhost:8080/"
        },
        "id": "3nt0hOsh9l5i",
        "outputId": "06c6d17c-f02b-4860-d7a8-c476b66a6968"
      },
      "execution_count": 10,
      "outputs": [
        {
          "output_type": "stream",
          "name": "stdout",
          "text": [
            "+------+--------+------+------+----------+\n",
            "|Emp_id|Emp_name|Gender|Salary|Department|\n",
            "+------+--------+------+------+----------+\n",
            "|     5| Johnson|  Male|  5645|   Payroll|\n",
            "|     1| Micheal|  Male|  2312|        IT|\n",
            "|     3| Mithila|Female|  1451|        HR|\n",
            "|     2| Jackson|  Male|  1245|        HR|\n",
            "|     4|  Daniel|Female|   641|       R&D|\n",
            "+------+--------+------+------+----------+\n",
            "\n"
          ]
        }
      ]
    },
    {
      "cell_type": "code",
      "source": [],
      "metadata": {
        "id": "ZoPfWo6E-C8y"
      },
      "execution_count": null,
      "outputs": []
    },
    {
      "cell_type": "markdown",
      "source": [
        "## orderBy()\n"
      ],
      "metadata": {
        "id": "AdEq7QY2IuyE"
      }
    },
    {
      "cell_type": "code",
      "source": [
        "df.orderBy(df.Salary.desc()).show()"
      ],
      "metadata": {
        "colab": {
          "base_uri": "https://localhost:8080/"
        },
        "id": "-el5Bwh3IyL8",
        "outputId": "32319518-b706-4a3b-d83c-c1a46ab54176"
      },
      "execution_count": 11,
      "outputs": [
        {
          "output_type": "stream",
          "name": "stdout",
          "text": [
            "+------+--------+------+------+----------+\n",
            "|Emp_id|Emp_name|Gender|Salary|Department|\n",
            "+------+--------+------+------+----------+\n",
            "|     5| Johnson|  Male|  5645|   Payroll|\n",
            "|     1| Micheal|  Male|  2312|        IT|\n",
            "|     3| Mithila|Female|  1451|        HR|\n",
            "|     2| Jackson|  Male|  1245|        HR|\n",
            "|     4|  Daniel|Female|   641|       R&D|\n",
            "+------+--------+------+------+----------+\n",
            "\n"
          ]
        }
      ]
    },
    {
      "cell_type": "code",
      "source": [
        "df.orderBy(['Salary'],ascending=[False]).show()\n",
        "\n",
        "df.orderBy('Salary').show()"
      ],
      "metadata": {
        "colab": {
          "base_uri": "https://localhost:8080/"
        },
        "id": "rWF4jczwI3X7",
        "outputId": "ae1965ec-4bf8-4fc6-f8ec-b2fe30ccd374"
      },
      "execution_count": 21,
      "outputs": [
        {
          "output_type": "stream",
          "name": "stdout",
          "text": [
            "+------+--------+------+------+----------+\n",
            "|Emp_id|Emp_name|Gender|Salary|Department|\n",
            "+------+--------+------+------+----------+\n",
            "|     5| Johnson|  Male|  5645|   Payroll|\n",
            "|     1| Micheal|  Male|  2312|        IT|\n",
            "|     3| Mithila|Female|  1451|        HR|\n",
            "|     2| Jackson|  Male|  1245|        HR|\n",
            "|     4|  Daniel|Female|   641|       R&D|\n",
            "+------+--------+------+------+----------+\n",
            "\n",
            "+------+--------+------+------+----------+\n",
            "|Emp_id|Emp_name|Gender|Salary|Department|\n",
            "+------+--------+------+------+----------+\n",
            "|     4|  Daniel|Female|   641|       R&D|\n",
            "|     2| Jackson|  Male|  1245|        HR|\n",
            "|     3| Mithila|Female|  1451|        HR|\n",
            "|     1| Micheal|  Male|  2312|        IT|\n",
            "|     5| Johnson|  Male|  5645|   Payroll|\n",
            "+------+--------+------+------+----------+\n",
            "\n"
          ]
        }
      ]
    },
    {
      "cell_type": "code",
      "source": [
        "df.orderBy(['Department'],ascending=[False]).show()"
      ],
      "metadata": {
        "colab": {
          "base_uri": "https://localhost:8080/"
        },
        "id": "F6E5Te0DJGEk",
        "outputId": "a6b17381-8499-4ace-cffb-40e2a6f2fc36"
      },
      "execution_count": 23,
      "outputs": [
        {
          "output_type": "stream",
          "name": "stdout",
          "text": [
            "+------+--------+------+------+----------+\n",
            "|Emp_id|Emp_name|Gender|Salary|Department|\n",
            "+------+--------+------+------+----------+\n",
            "|     4|  Daniel|Female|   641|       R&D|\n",
            "|     5| Johnson|  Male|  5645|   Payroll|\n",
            "|     1| Micheal|  Male|  2312|        IT|\n",
            "|     3| Mithila|Female|  1451|        HR|\n",
            "|     2| Jackson|  Male|  1245|        HR|\n",
            "+------+--------+------+------+----------+\n",
            "\n"
          ]
        }
      ]
    },
    {
      "cell_type": "code",
      "source": [],
      "metadata": {
        "id": "7_M7FywSKDps"
      },
      "execution_count": null,
      "outputs": []
    },
    {
      "cell_type": "code",
      "source": [],
      "metadata": {
        "id": "jAwF1yJ89_8R"
      },
      "execution_count": null,
      "outputs": []
    },
    {
      "cell_type": "code",
      "source": [],
      "metadata": {
        "id": "qgvUs1w194Sa"
      },
      "execution_count": null,
      "outputs": []
    },
    {
      "cell_type": "code",
      "source": [],
      "metadata": {
        "id": "h-4fUMmBu1fh"
      },
      "execution_count": null,
      "outputs": []
    }
  ]
}