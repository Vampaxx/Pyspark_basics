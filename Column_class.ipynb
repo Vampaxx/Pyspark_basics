{
  "nbformat": 4,
  "nbformat_minor": 0,
  "metadata": {
    "colab": {
      "provenance": [],
      "authorship_tag": "ABX9TyPAiOjnm3jwujc3WwILlb+5",
      "include_colab_link": true
    },
    "kernelspec": {
      "name": "python3",
      "display_name": "Python 3"
    },
    "language_info": {
      "name": "python"
    }
  },
  "cells": [
    {
      "cell_type": "markdown",
      "metadata": {
        "id": "view-in-github",
        "colab_type": "text"
      },
      "source": [
        "<a href=\"https://colab.research.google.com/github/Vampaxx/Pyspark_basics/blob/main/Column_class.ipynb\" target=\"_parent\"><img src=\"https://colab.research.google.com/assets/colab-badge.svg\" alt=\"Open In Colab\"/></a>"
      ]
    },
    {
      "cell_type": "code",
      "execution_count": 1,
      "metadata": {
        "colab": {
          "base_uri": "https://localhost:8080/"
        },
        "id": "Gd2y03c-TiwF",
        "outputId": "732064fd-64a7-4975-96ee-6346ce066173"
      },
      "outputs": [
        {
          "output_type": "stream",
          "name": "stdout",
          "text": [
            "Collecting pyspark\n",
            "  Downloading pyspark-3.5.0.tar.gz (316.9 MB)\n",
            "\u001b[2K     \u001b[90m━━━━━━━━━━━━━━━━━━━━━━━━━━━━━━━━━━━━━━━━\u001b[0m \u001b[32m316.9/316.9 MB\u001b[0m \u001b[31m3.7 MB/s\u001b[0m eta \u001b[36m0:00:00\u001b[0m\n",
            "\u001b[?25h  Preparing metadata (setup.py) ... \u001b[?25l\u001b[?25hdone\n",
            "Requirement already satisfied: py4j==0.10.9.7 in /usr/local/lib/python3.10/dist-packages (from pyspark) (0.10.9.7)\n",
            "Building wheels for collected packages: pyspark\n",
            "  Building wheel for pyspark (setup.py) ... \u001b[?25l\u001b[?25hdone\n",
            "  Created wheel for pyspark: filename=pyspark-3.5.0-py2.py3-none-any.whl size=317425344 sha256=68a6584123b85c6f567e804985b6a662f411b91db5315c62a111feaa98e90458\n",
            "  Stored in directory: /root/.cache/pip/wheels/41/4e/10/c2cf2467f71c678cfc8a6b9ac9241e5e44a01940da8fbb17fc\n",
            "Successfully built pyspark\n",
            "Installing collected packages: pyspark\n",
            "Successfully installed pyspark-3.5.0\n"
          ]
        }
      ],
      "source": [
        "! pip install pyspark"
      ]
    },
    {
      "cell_type": "code",
      "source": [
        "from pyspark.sql.types import (StringType,StructField,\n",
        "                               StructType,IntegerType,\n",
        "                               ArrayType,MapType)\n",
        "from pyspark.sql import SparkSession\n",
        "\n",
        "from pyspark.sql.functions import col,explode,split\n",
        "from pyspark.sql.functions import col,lit,when,expr\n",
        "\n"
      ],
      "metadata": {
        "id": "BgAOgHoXTjbM"
      },
      "execution_count": 2,
      "outputs": []
    },
    {
      "cell_type": "code",
      "source": [
        "spark = SparkSession.builder.appName('Column_class').getOrCreate()"
      ],
      "metadata": {
        "id": "yUwrFDe3Tkft"
      },
      "execution_count": 3,
      "outputs": []
    },
    {
      "cell_type": "code",
      "source": [],
      "metadata": {
        "id": "wcCqt6f5Tlo7"
      },
      "execution_count": 3,
      "outputs": []
    },
    {
      "cell_type": "markdown",
      "source": [
        "## Column Class\n",
        "\n",
        "- Column class represent a single Column in dataframe\n",
        "- pyspark.sql.Column class provide several functions to work with Dataframe to manipulate the Column values, EValuate the boolean expression to filter rows, retrives a value or part of value from a Dataframe column\n",
        "- One of the simplest way to create a Column class object is by using Pyspark **lit()** sql function\n"
      ],
      "metadata": {
        "id": "cT8WfQQzTmGt"
      }
    },
    {
      "cell_type": "code",
      "source": [
        "from pyspark.sql.functions import lit"
      ],
      "metadata": {
        "id": "m9Mj9fO-d2iC"
      },
      "execution_count": 4,
      "outputs": []
    },
    {
      "cell_type": "code",
      "source": [],
      "metadata": {
        "id": "D3Vm4Lp3eBPS"
      },
      "execution_count": 4,
      "outputs": []
    },
    {
      "cell_type": "markdown",
      "source": [
        "Access the column from dataframe\n",
        "\n",
        "- Access the column in multiple ways"
      ],
      "metadata": {
        "id": "Z0rwI5z1r4__"
      }
    },
    {
      "cell_type": "code",
      "source": [
        "data = [\n",
        "    ('Micheal_jackson','Male',56451),\\\n",
        "    ('Jacly_chan','Male',65871),\\\n",
        "    ('Mia khalifa','Female',2132)\n",
        "]\n",
        "schema = ['Name','Gender','Salary']\n",
        "\n",
        "df = spark.createDataFrame(data,schema)\n",
        "df.printSchema()\n",
        "df.show()"
      ],
      "metadata": {
        "colab": {
          "base_uri": "https://localhost:8080/"
        },
        "id": "iCwVHc5hsCkH",
        "outputId": "c85ee391-b0ee-4716-d623-f72a219571f0"
      },
      "execution_count": 11,
      "outputs": [
        {
          "output_type": "stream",
          "name": "stdout",
          "text": [
            "root\n",
            " |-- Name: string (nullable = true)\n",
            " |-- Gender: string (nullable = true)\n",
            " |-- Salary: long (nullable = true)\n",
            "\n",
            "+---------------+------+------+\n",
            "|           Name|Gender|Salary|\n",
            "+---------------+------+------+\n",
            "|Micheal_jackson|  Male| 56451|\n",
            "|     Jacly_chan|  Male| 65871|\n",
            "|    Mia khalifa|Female|  2132|\n",
            "+---------------+------+------+\n",
            "\n"
          ]
        }
      ]
    },
    {
      "cell_type": "markdown",
      "source": [
        "## Create new column\n"
      ],
      "metadata": {
        "id": "wyv8IP-UaHit"
      }
    },
    {
      "cell_type": "code",
      "source": [
        "df.withColumn('Sector',when(df['Name'] == 'Micheal_jackson', 'Music_&_Production')\\\n",
        "              .otherwise('IT')).show()\n"
      ],
      "metadata": {
        "colab": {
          "base_uri": "https://localhost:8080/"
        },
        "id": "Mrrjwik-aKQ6",
        "outputId": "ad4260c3-6316-4dc5-d041-8131d6a351a5"
      },
      "execution_count": 9,
      "outputs": [
        {
          "output_type": "stream",
          "name": "stdout",
          "text": [
            "+---------------+------+------+------------------+\n",
            "|           Name|Gender|Salary|            Sector|\n",
            "+---------------+------+------+------------------+\n",
            "|Micheal_jackson|  Male| 56451|Music_&_Production|\n",
            "|     Jacly_chan|  Male| 65871|                IT|\n",
            "|    Mia khalifa|Female|  2132|                IT|\n",
            "+---------------+------+------+------------------+\n",
            "\n"
          ]
        }
      ]
    },
    {
      "cell_type": "code",
      "source": [
        "df.withColumn('Sector',lit('Producton')).show()"
      ],
      "metadata": {
        "colab": {
          "base_uri": "https://localhost:8080/"
        },
        "id": "0Acv2RoYcm4K",
        "outputId": "f2410309-134b-41bd-b501-2d779645292a"
      },
      "execution_count": 10,
      "outputs": [
        {
          "output_type": "stream",
          "name": "stdout",
          "text": [
            "+---------------+------+------+---------+\n",
            "|           Name|Gender|Salary|   Sector|\n",
            "+---------------+------+------+---------+\n",
            "|Micheal_jackson|  Male| 56451|Producton|\n",
            "|     Jacly_chan|  Male| 65871|Producton|\n",
            "|    Mia khalifa|Female|  2132|Producton|\n",
            "+---------------+------+------+---------+\n",
            "\n"
          ]
        }
      ]
    },
    {
      "cell_type": "code",
      "source": [
        "##"
      ],
      "metadata": {
        "id": "uiwZ54mud6dY"
      },
      "execution_count": null,
      "outputs": []
    },
    {
      "cell_type": "markdown",
      "source": [
        "## Access the column value"
      ],
      "metadata": {
        "id": "-vaAM6d7d7aa"
      }
    },
    {
      "cell_type": "code",
      "source": [
        "df.select(df['gender']=='Male').show()"
      ],
      "metadata": {
        "colab": {
          "base_uri": "https://localhost:8080/"
        },
        "id": "c7zxMY66d95A",
        "outputId": "f045e8ee-939c-4506-abf4-673069f7a6f8"
      },
      "execution_count": 20,
      "outputs": [
        {
          "output_type": "stream",
          "name": "stdout",
          "text": [
            "+---------------+\n",
            "|(gender = Male)|\n",
            "+---------------+\n",
            "|           true|\n",
            "|           true|\n",
            "|          false|\n",
            "+---------------+\n",
            "\n"
          ]
        }
      ]
    },
    {
      "cell_type": "code",
      "source": [
        "df.select(col('gender')).show()"
      ],
      "metadata": {
        "colab": {
          "base_uri": "https://localhost:8080/"
        },
        "id": "cB4lR6v2eNoo",
        "outputId": "a59815c3-ca68-46c7-c045-05384a939567"
      },
      "execution_count": 21,
      "outputs": [
        {
          "output_type": "stream",
          "name": "stdout",
          "text": [
            "+------+\n",
            "|gender|\n",
            "+------+\n",
            "|  Male|\n",
            "|  Male|\n",
            "|Female|\n",
            "+------+\n",
            "\n"
          ]
        }
      ]
    },
    {
      "cell_type": "code",
      "source": [],
      "metadata": {
        "id": "MCXs9rSdeRh5"
      },
      "execution_count": null,
      "outputs": []
    },
    {
      "cell_type": "code",
      "source": [
        "df.filter(df['Gender']=='Male').show()"
      ],
      "metadata": {
        "colab": {
          "base_uri": "https://localhost:8080/"
        },
        "id": "XSa0dagAeBJh",
        "outputId": "452a89ea-d3c6-4685-e4cd-59c3485b6cb7"
      },
      "execution_count": 19,
      "outputs": [
        {
          "output_type": "stream",
          "name": "stdout",
          "text": [
            "+---------------+------+------+\n",
            "|           Name|Gender|Salary|\n",
            "+---------------+------+------+\n",
            "|Micheal_jackson|  Male| 56451|\n",
            "|     Jacly_chan|  Male| 65871|\n",
            "+---------------+------+------+\n",
            "\n"
          ]
        }
      ]
    },
    {
      "cell_type": "code",
      "source": [
        "data = [\n",
        "    ('Micheal jackson','Artist',51,('black','long_hair')),\\\n",
        "    ('Jacky chan','Actor',45,('asian','short_hair')),\\\n",
        "    ('Mia Khalifa','Actress',22,('arabic','long_hair'))\n",
        "]\n",
        "\n",
        "prop_struct = StructType([\n",
        "    StructField('races',StringType()),\\\n",
        "    StructField('hair_style',StringType())])\n",
        "\n",
        "schema= StructType([\n",
        "    StructField('Name',StringType()),\\\n",
        "    StructField('Occupation',StringType()),\\\n",
        "    StructField('Age',IntegerType()),\\\n",
        "    StructField('Properties',prop_struct)])\n",
        "\n",
        "\n",
        "df = spark.createDataFrame(data,schema)\n",
        "df.show()\n",
        "df.printSchema()\n",
        "\n",
        "\n"
      ],
      "metadata": {
        "colab": {
          "base_uri": "https://localhost:8080/"
        },
        "id": "pXdru6lVeHXg",
        "outputId": "205d78f2-14b8-44cf-f778-83ef3e825325"
      },
      "execution_count": 22,
      "outputs": [
        {
          "output_type": "stream",
          "name": "stdout",
          "text": [
            "+---------------+----------+---+-------------------+\n",
            "|           Name|Occupation|Age|         Properties|\n",
            "+---------------+----------+---+-------------------+\n",
            "|Micheal jackson|    Artist| 51| {black, long_hair}|\n",
            "|     Jacky chan|     Actor| 45|{asian, short_hair}|\n",
            "|    Mia Khalifa|   Actress| 22|{arabic, long_hair}|\n",
            "+---------------+----------+---+-------------------+\n",
            "\n",
            "root\n",
            " |-- Name: string (nullable = true)\n",
            " |-- Occupation: string (nullable = true)\n",
            " |-- Age: integer (nullable = true)\n",
            " |-- Properties: struct (nullable = true)\n",
            " |    |-- races: string (nullable = true)\n",
            " |    |-- hair_style: string (nullable = true)\n",
            "\n"
          ]
        }
      ]
    },
    {
      "cell_type": "code",
      "source": [
        "df.select(df.Properties.races).show()"
      ],
      "metadata": {
        "colab": {
          "base_uri": "https://localhost:8080/"
        },
        "id": "rQyc4n4g5rTn",
        "outputId": "8fdc19e2-2f41-4148-942f-9be213006aa5"
      },
      "execution_count": 23,
      "outputs": [
        {
          "output_type": "stream",
          "name": "stdout",
          "text": [
            "+----------------+\n",
            "|Properties.races|\n",
            "+----------------+\n",
            "|           black|\n",
            "|           asian|\n",
            "|          arabic|\n",
            "+----------------+\n",
            "\n"
          ]
        }
      ]
    },
    {
      "cell_type": "code",
      "source": [
        "df.filter(df.Properties.races == 'black').show()"
      ],
      "metadata": {
        "colab": {
          "base_uri": "https://localhost:8080/"
        },
        "id": "xY-M20Yw509v",
        "outputId": "721d29bb-b9e2-43fd-af1f-b275951684ff"
      },
      "execution_count": 26,
      "outputs": [
        {
          "output_type": "stream",
          "name": "stdout",
          "text": [
            "+---------------+----------+---+------------------+\n",
            "|           Name|Occupation|Age|        Properties|\n",
            "+---------------+----------+---+------------------+\n",
            "|Micheal jackson|    Artist| 51|{black, long_hair}|\n",
            "+---------------+----------+---+------------------+\n",
            "\n"
          ]
        }
      ]
    },
    {
      "cell_type": "code",
      "source": [],
      "metadata": {
        "id": "nuFyevIp5-Tm"
      },
      "execution_count": null,
      "outputs": []
    },
    {
      "cell_type": "code",
      "source": [],
      "metadata": {
        "id": "UsydCYMfddno"
      },
      "execution_count": null,
      "outputs": []
    },
    {
      "cell_type": "code",
      "source": [],
      "metadata": {
        "id": "A7PX53vsdYlJ"
      },
      "execution_count": null,
      "outputs": []
    },
    {
      "cell_type": "code",
      "source": [],
      "metadata": {
        "id": "R7EIngWlcNkp"
      },
      "execution_count": null,
      "outputs": []
    },
    {
      "cell_type": "code",
      "source": [],
      "metadata": {
        "id": "TKX052APcFay"
      },
      "execution_count": null,
      "outputs": []
    }
  ]
}