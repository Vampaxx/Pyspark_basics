{
  "nbformat": 4,
  "nbformat_minor": 0,
  "metadata": {
    "colab": {
      "provenance": [],
      "authorship_tag": "ABX9TyPpk0mhwhC1KZJGjzqfPXAB",
      "include_colab_link": true
    },
    "kernelspec": {
      "name": "python3",
      "display_name": "Python 3"
    },
    "language_info": {
      "name": "python"
    }
  },
  "cells": [
    {
      "cell_type": "markdown",
      "metadata": {
        "id": "view-in-github",
        "colab_type": "text"
      },
      "source": [
        "<a href=\"https://colab.research.google.com/github/Vampaxx/Pyspark_basics/blob/main/filter()_%26_where_().ipynb\" target=\"_parent\"><img src=\"https://colab.research.google.com/assets/colab-badge.svg\" alt=\"Open In Colab\"/></a>"
      ]
    },
    {
      "cell_type": "code",
      "execution_count": 1,
      "metadata": {
        "colab": {
          "base_uri": "https://localhost:8080/"
        },
        "id": "RHNfJpklPG5A",
        "outputId": "edac2ad4-497d-47a9-bc02-e158313e3f0a"
      },
      "outputs": [
        {
          "output_type": "stream",
          "name": "stdout",
          "text": [
            "Collecting pyspark\n",
            "  Downloading pyspark-3.5.0.tar.gz (316.9 MB)\n",
            "\u001b[2K     \u001b[90m━━━━━━━━━━━━━━━━━━━━━━━━━━━━━━━━━━━━━━━━\u001b[0m \u001b[32m316.9/316.9 MB\u001b[0m \u001b[31m4.8 MB/s\u001b[0m eta \u001b[36m0:00:00\u001b[0m\n",
            "\u001b[?25h  Preparing metadata (setup.py) ... \u001b[?25l\u001b[?25hdone\n",
            "Requirement already satisfied: py4j==0.10.9.7 in /usr/local/lib/python3.10/dist-packages (from pyspark) (0.10.9.7)\n",
            "Building wheels for collected packages: pyspark\n",
            "  Building wheel for pyspark (setup.py) ... \u001b[?25l\u001b[?25hdone\n",
            "  Created wheel for pyspark: filename=pyspark-3.5.0-py2.py3-none-any.whl size=317425344 sha256=c7dcd0091dd5a9e63b9699647aaf7c290d150b9e4db2f247651649a446901555\n",
            "  Stored in directory: /root/.cache/pip/wheels/41/4e/10/c2cf2467f71c678cfc8a6b9ac9241e5e44a01940da8fbb17fc\n",
            "Successfully built pyspark\n",
            "Installing collected packages: pyspark\n",
            "Successfully installed pyspark-3.5.0\n"
          ]
        }
      ],
      "source": [
        "! pip install pyspark"
      ]
    },
    {
      "cell_type": "code",
      "source": [
        "from pyspark.sql.types import (StringType,StructField,\n",
        "                               StructType,IntegerType,\n",
        "                               ArrayType,MapType)\n",
        "from pyspark.sql import SparkSession\n",
        "\n",
        "from pyspark.sql.functions import col,explode,split\n",
        "from pyspark.sql.functions import col,lit,when,expr\n",
        "\n"
      ],
      "metadata": {
        "id": "EUrUYIaKPKYM"
      },
      "execution_count": 2,
      "outputs": []
    },
    {
      "cell_type": "code",
      "source": [
        "spark = SparkSession.builder.appName('filter_&where').getOrCreate()"
      ],
      "metadata": {
        "id": "hup5sP7JPLbi"
      },
      "execution_count": 3,
      "outputs": []
    },
    {
      "cell_type": "code",
      "source": [],
      "metadata": {
        "id": "Rrn-aAqZPQ77"
      },
      "execution_count": null,
      "outputs": []
    },
    {
      "cell_type": "markdown",
      "source": [
        "## Filter() & where()\n",
        "\n",
        "- Pyspark **filter()** function is used to filter the rows from dataframe based on the given condition or SQL expresion\n",
        "- You can also use **where()** clause instead of **filter()** if you are coming from an SQL background, both these funcions operate exactly same."
      ],
      "metadata": {
        "id": "Rl8mZntzPTxK"
      }
    },
    {
      "cell_type": "code",
      "source": [
        "data = [\n",
        "    ('Micheal jackson','Artist',51,('black','long_hair')),\\\n",
        "    ('Jacky chan','Actor',45,('asian','short_hair')),\\\n",
        "    ('Mia Khalifa','Actress',22,('arabic','long_hair'))\n",
        "]\n",
        "\n",
        "prop_struct = StructType([\n",
        "    StructField('races',StringType()),\\\n",
        "    StructField('hair_style',StringType())])\n",
        "\n",
        "schema= StructType([\n",
        "    StructField('Name',StringType()),\\\n",
        "    StructField('Occupation',StringType()),\\\n",
        "    StructField('Age',IntegerType()),\\\n",
        "    StructField('Properties',prop_struct)])\n",
        "\n",
        "\n",
        "df = spark.createDataFrame(data,schema)\n",
        "df.show()\n",
        "df.printSchema()"
      ],
      "metadata": {
        "colab": {
          "base_uri": "https://localhost:8080/"
        },
        "id": "oa2NSvXmQAWK",
        "outputId": "e661b2a2-68d9-4fe6-e98d-39033326bb76"
      },
      "execution_count": 4,
      "outputs": [
        {
          "output_type": "stream",
          "name": "stdout",
          "text": [
            "+---------------+----------+---+-------------------+\n",
            "|           Name|Occupation|Age|         Properties|\n",
            "+---------------+----------+---+-------------------+\n",
            "|Micheal jackson|    Artist| 51| {black, long_hair}|\n",
            "|     Jacky chan|     Actor| 45|{asian, short_hair}|\n",
            "|    Mia Khalifa|   Actress| 22|{arabic, long_hair}|\n",
            "+---------------+----------+---+-------------------+\n",
            "\n",
            "root\n",
            " |-- Name: string (nullable = true)\n",
            " |-- Occupation: string (nullable = true)\n",
            " |-- Age: integer (nullable = true)\n",
            " |-- Properties: struct (nullable = true)\n",
            " |    |-- races: string (nullable = true)\n",
            " |    |-- hair_style: string (nullable = true)\n",
            "\n"
          ]
        }
      ]
    },
    {
      "cell_type": "code",
      "source": [
        "print('By using where()')\n",
        "df.where((df.Age<50) & (df.Occupation == 'Actor')).show()\n",
        "\n",
        "print('By using Filter()')\n",
        "df.filter((df.Age<50) & (df.Occupation == 'Actress')).show()\n",
        "\n",
        "print('-'.join('' for x in range(100)))\n",
        "print('Another method')\n",
        "df.filter(\"Occupation == 'Actor'\").show()"
      ],
      "metadata": {
        "colab": {
          "base_uri": "https://localhost:8080/"
        },
        "id": "xOSasibHQIS6",
        "outputId": "e5415902-f771-4127-a544-d087572f4f93"
      },
      "execution_count": 35,
      "outputs": [
        {
          "output_type": "stream",
          "name": "stdout",
          "text": [
            "By using where()\n",
            "+----------+----------+---+-------------------+\n",
            "|      Name|Occupation|Age|         Properties|\n",
            "+----------+----------+---+-------------------+\n",
            "|Jacky chan|     Actor| 45|{asian, short_hair}|\n",
            "+----------+----------+---+-------------------+\n",
            "\n",
            "By using Filter()\n",
            "+-----------+----------+---+-------------------+\n",
            "|       Name|Occupation|Age|         Properties|\n",
            "+-----------+----------+---+-------------------+\n",
            "|Mia Khalifa|   Actress| 22|{arabic, long_hair}|\n",
            "+-----------+----------+---+-------------------+\n",
            "\n",
            "---------------------------------------------------------------------------------------------------\n",
            "Another method\n",
            "+----------+----------+---+-------------------+\n",
            "|      Name|Occupation|Age|         Properties|\n",
            "+----------+----------+---+-------------------+\n",
            "|Jacky chan|     Actor| 45|{asian, short_hair}|\n",
            "+----------+----------+---+-------------------+\n",
            "\n"
          ]
        }
      ]
    },
    {
      "cell_type": "code",
      "source": [
        "sample = df.filter((df.Age<50) & (df.Occupation == 'Actress')).collect()\n",
        "\n",
        "print('Access the elements from sample')\n",
        "print('-'.join('' for x in range(100)))\n",
        "name_       = sample[0]['Name']\n",
        "occupation_ = sample[0]['Occupation']\n",
        "age         = sample[0]['Age']\n",
        "\n",
        "print(f' Name is --> {name_} \\n Occupation is --> {occupation_} \\n Age is --> {age}')\n",
        "\n"
      ],
      "metadata": {
        "colab": {
          "base_uri": "https://localhost:8080/"
        },
        "id": "C0KNa6-TR6jK",
        "outputId": "38c99742-b63c-4c06-a417-adc4435042b6"
      },
      "execution_count": 28,
      "outputs": [
        {
          "output_type": "stream",
          "name": "stdout",
          "text": [
            "Access the elements from sample\n",
            "---------------------------------------------------------------------------------------------------\n",
            " Name is --> Mia Khalifa \n",
            " Occupation is --> Actress \n",
            " Age is --> 22\n"
          ]
        }
      ]
    },
    {
      "cell_type": "code",
      "source": [],
      "metadata": {
        "id": "Bh2GgloKRVLy"
      },
      "execution_count": null,
      "outputs": []
    },
    {
      "cell_type": "code",
      "source": [],
      "metadata": {
        "id": "KmTMwVPrRRJ7"
      },
      "execution_count": null,
      "outputs": []
    },
    {
      "cell_type": "code",
      "source": [],
      "metadata": {
        "id": "1ptMwZBHRMRB"
      },
      "execution_count": null,
      "outputs": []
    },
    {
      "cell_type": "code",
      "source": [],
      "metadata": {
        "id": "DxxAXU9uQ7J7"
      },
      "execution_count": null,
      "outputs": []
    },
    {
      "cell_type": "code",
      "source": [],
      "metadata": {
        "id": "t0sA9iN3Qas6"
      },
      "execution_count": null,
      "outputs": []
    }
  ]
}