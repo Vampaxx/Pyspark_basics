{
  "nbformat": 4,
  "nbformat_minor": 0,
  "metadata": {
    "colab": {
      "provenance": [],
      "authorship_tag": "ABX9TyMFMsTzEa/0t/6xvX8Tg9RR",
      "include_colab_link": true
    },
    "kernelspec": {
      "name": "python3",
      "display_name": "Python 3"
    },
    "language_info": {
      "name": "python"
    }
  },
  "cells": [
    {
      "cell_type": "markdown",
      "metadata": {
        "id": "view-in-github",
        "colab_type": "text"
      },
      "source": [
        "<a href=\"https://colab.research.google.com/github/Vampaxx/Pyspark_basics/blob/main/distinct()__%26_dropDuplicates().ipynb\" target=\"_parent\"><img src=\"https://colab.research.google.com/assets/colab-badge.svg\" alt=\"Open In Colab\"/></a>"
      ]
    },
    {
      "cell_type": "code",
      "execution_count": 1,
      "metadata": {
        "colab": {
          "base_uri": "https://localhost:8080/"
        },
        "id": "eLpm9GRzUWxJ",
        "outputId": "a6fb1a2a-0e45-494a-c598-dbc9fac9d89f"
      },
      "outputs": [
        {
          "output_type": "stream",
          "name": "stdout",
          "text": [
            "Collecting pyspark\n",
            "  Downloading pyspark-3.5.0.tar.gz (316.9 MB)\n",
            "\u001b[2K     \u001b[90m━━━━━━━━━━━━━━━━━━━━━━━━━━━━━━━━━━━━━━━━\u001b[0m \u001b[32m316.9/316.9 MB\u001b[0m \u001b[31m4.9 MB/s\u001b[0m eta \u001b[36m0:00:00\u001b[0m\n",
            "\u001b[?25h  Preparing metadata (setup.py) ... \u001b[?25l\u001b[?25hdone\n",
            "Requirement already satisfied: py4j==0.10.9.7 in /usr/local/lib/python3.10/dist-packages (from pyspark) (0.10.9.7)\n",
            "Building wheels for collected packages: pyspark\n",
            "  Building wheel for pyspark (setup.py) ... \u001b[?25l\u001b[?25hdone\n",
            "  Created wheel for pyspark: filename=pyspark-3.5.0-py2.py3-none-any.whl size=317425344 sha256=85f4c9ad6c3b09c1a9ad9abace332e939e3accec7217dbeaa8b1cbac9934dd38\n",
            "  Stored in directory: /root/.cache/pip/wheels/41/4e/10/c2cf2467f71c678cfc8a6b9ac9241e5e44a01940da8fbb17fc\n",
            "Successfully built pyspark\n",
            "Installing collected packages: pyspark\n",
            "Successfully installed pyspark-3.5.0\n"
          ]
        }
      ],
      "source": [
        "! pip install pyspark"
      ]
    },
    {
      "cell_type": "code",
      "source": [
        "from pyspark.sql.types import (StringType,StructField,\n",
        "                               StructType,IntegerType,\n",
        "                               ArrayType,MapType)\n",
        "from pyspark.sql import SparkSession\n",
        "\n",
        "from pyspark.sql.functions import col,explode,split\n",
        "from pyspark.sql.functions import col,lit,when,expr\n",
        "\n"
      ],
      "metadata": {
        "id": "Hx8vbXUrUc0Z"
      },
      "execution_count": 2,
      "outputs": []
    },
    {
      "cell_type": "code",
      "source": [
        "spark = SparkSession.builder.appName('distinct_&_dropDuplicates').getOrCreate()"
      ],
      "metadata": {
        "id": "h2AHCbKrUd6g"
      },
      "execution_count": 3,
      "outputs": []
    },
    {
      "cell_type": "code",
      "source": [],
      "metadata": {
        "id": "8wn0hrfmUkey"
      },
      "execution_count": null,
      "outputs": []
    },
    {
      "cell_type": "markdown",
      "source": [
        "## distinct() and dropDuplicates()\n",
        "\n",
        "- **distinct()** function is used to remove the duplicate rows (all columns)\n",
        "- **dropDuplicates()** is used to drop rows based on selected ( one or multiple) columns.\n",
        "- So basically, using these funcitons we can get distinct rows"
      ],
      "metadata": {
        "id": "AasEm4VdU1Cj"
      }
    },
    {
      "cell_type": "code",
      "source": [
        "data = [\n",
        "    (1,'Micheal jackson','Data scientist',51,),\\\n",
        "    (2,'Jacky chan','AWS Archi',45),\\\n",
        "    (2,'Jacky chan','AWS Archi',45),\\\n",
        "    (3,'Mia Khalifa','ML engineer',22),\\\n",
        "    (3,'Mia Khalifa','ML engineer',22,),\\\n",
        "    (3,'Aryan','ML engineer',36)\n",
        "]\n",
        "\n",
        "\n",
        "schema = ['Emp_id','Emp_name','Section','Age']\n",
        "\n",
        "df = spark.createDataFrame(data,schema)\n",
        "df.show()"
      ],
      "metadata": {
        "colab": {
          "base_uri": "https://localhost:8080/"
        },
        "id": "-Z9dm6jBVfJJ",
        "outputId": "de952134-f39b-4432-95cb-8ec29c71cbd2"
      },
      "execution_count": 18,
      "outputs": [
        {
          "output_type": "stream",
          "name": "stdout",
          "text": [
            "+------+---------------+--------------+---+\n",
            "|Emp_id|       Emp_name|       Section|Age|\n",
            "+------+---------------+--------------+---+\n",
            "|     1|Micheal jackson|Data scientist| 51|\n",
            "|     2|     Jacky chan|     AWS Archi| 45|\n",
            "|     2|     Jacky chan|     AWS Archi| 45|\n",
            "|     3|    Mia Khalifa|   ML engineer| 22|\n",
            "|     3|    Mia Khalifa|   ML engineer| 22|\n",
            "|     3|          Aryan|   ML engineer| 36|\n",
            "+------+---------------+--------------+---+\n",
            "\n"
          ]
        }
      ]
    },
    {
      "cell_type": "code",
      "source": [
        "df.distinct().show()"
      ],
      "metadata": {
        "colab": {
          "base_uri": "https://localhost:8080/"
        },
        "id": "0au7H4DEWRmB",
        "outputId": "d9cb247c-9355-4907-a67c-d7bce77ecff9"
      },
      "execution_count": 19,
      "outputs": [
        {
          "output_type": "stream",
          "name": "stdout",
          "text": [
            "+------+---------------+--------------+---+\n",
            "|Emp_id|       Emp_name|       Section|Age|\n",
            "+------+---------------+--------------+---+\n",
            "|     2|     Jacky chan|     AWS Archi| 45|\n",
            "|     1|Micheal jackson|Data scientist| 51|\n",
            "|     3|    Mia Khalifa|   ML engineer| 22|\n",
            "|     3|          Aryan|   ML engineer| 36|\n",
            "+------+---------------+--------------+---+\n",
            "\n"
          ]
        }
      ]
    },
    {
      "cell_type": "code",
      "source": [
        "df.dropDuplicates(['Age','Emp_id']).show()"
      ],
      "metadata": {
        "colab": {
          "base_uri": "https://localhost:8080/"
        },
        "id": "6e51K8hbcVr3",
        "outputId": "9eeacf98-9acf-4f19-9573-9f734cd8a915"
      },
      "execution_count": 23,
      "outputs": [
        {
          "output_type": "stream",
          "name": "stdout",
          "text": [
            "+------+---------------+--------------+---+\n",
            "|Emp_id|       Emp_name|       Section|Age|\n",
            "+------+---------------+--------------+---+\n",
            "|     3|    Mia Khalifa|   ML engineer| 22|\n",
            "|     3|          Aryan|   ML engineer| 36|\n",
            "|     2|     Jacky chan|     AWS Archi| 45|\n",
            "|     1|Micheal jackson|Data scientist| 51|\n",
            "+------+---------------+--------------+---+\n",
            "\n"
          ]
        }
      ]
    },
    {
      "cell_type": "code",
      "source": [
        "df.dropDuplicates(['Section']).show()"
      ],
      "metadata": {
        "colab": {
          "base_uri": "https://localhost:8080/"
        },
        "id": "xZPEsBbsqBcj",
        "outputId": "187707a6-ac0c-4409-caa8-fffdc6d6813d"
      },
      "execution_count": 24,
      "outputs": [
        {
          "output_type": "stream",
          "name": "stdout",
          "text": [
            "+------+---------------+--------------+---+\n",
            "|Emp_id|       Emp_name|       Section|Age|\n",
            "+------+---------------+--------------+---+\n",
            "|     2|     Jacky chan|     AWS Archi| 45|\n",
            "|     1|Micheal jackson|Data scientist| 51|\n",
            "|     3|    Mia Khalifa|   ML engineer| 22|\n",
            "+------+---------------+--------------+---+\n",
            "\n"
          ]
        }
      ]
    },
    {
      "cell_type": "code",
      "source": [],
      "metadata": {
        "id": "yXlXtOAYqOub"
      },
      "execution_count": null,
      "outputs": []
    },
    {
      "cell_type": "code",
      "source": [],
      "metadata": {
        "id": "kUUwhGXaczd-"
      },
      "execution_count": null,
      "outputs": []
    },
    {
      "cell_type": "code",
      "source": [],
      "metadata": {
        "id": "2P60amEEcpuW"
      },
      "execution_count": null,
      "outputs": []
    },
    {
      "cell_type": "code",
      "source": [],
      "metadata": {
        "id": "Dt91jo2HcoaX"
      },
      "execution_count": null,
      "outputs": []
    },
    {
      "cell_type": "code",
      "source": [],
      "metadata": {
        "id": "CRkQ6zp6WiSX"
      },
      "execution_count": null,
      "outputs": []
    },
    {
      "cell_type": "code",
      "source": [],
      "metadata": {
        "id": "OcpyFdU3WLwg"
      },
      "execution_count": null,
      "outputs": []
    }
  ]
}