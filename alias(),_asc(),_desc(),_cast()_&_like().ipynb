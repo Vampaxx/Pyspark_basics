{
  "nbformat": 4,
  "nbformat_minor": 0,
  "metadata": {
    "colab": {
      "provenance": [],
      "authorship_tag": "ABX9TyPr5O7kKaJYlXaXfJ2nOVwd",
      "include_colab_link": true
    },
    "kernelspec": {
      "name": "python3",
      "display_name": "Python 3"
    },
    "language_info": {
      "name": "python"
    }
  },
  "cells": [
    {
      "cell_type": "markdown",
      "metadata": {
        "id": "view-in-github",
        "colab_type": "text"
      },
      "source": [
        "<a href=\"https://colab.research.google.com/github/Vampaxx/Pyspark_basics/blob/main/alias()%2C_asc()%2C_desc()%2C_cast()_%26_like().ipynb\" target=\"_parent\"><img src=\"https://colab.research.google.com/assets/colab-badge.svg\" alt=\"Open In Colab\"/></a>"
      ]
    },
    {
      "cell_type": "code",
      "execution_count": 1,
      "metadata": {
        "colab": {
          "base_uri": "https://localhost:8080/"
        },
        "id": "mj_H5VfZ9gQr",
        "outputId": "73d2c7c9-283c-4597-fb7a-7235a8d5578e"
      },
      "outputs": [
        {
          "output_type": "stream",
          "name": "stdout",
          "text": [
            "Collecting pyspark\n",
            "  Downloading pyspark-3.5.0.tar.gz (316.9 MB)\n",
            "\u001b[2K     \u001b[90m━━━━━━━━━━━━━━━━━━━━━━━━━━━━━━━━━━━━━━━━\u001b[0m \u001b[32m316.9/316.9 MB\u001b[0m \u001b[31m4.9 MB/s\u001b[0m eta \u001b[36m0:00:00\u001b[0m\n",
            "\u001b[?25h  Preparing metadata (setup.py) ... \u001b[?25l\u001b[?25hdone\n",
            "Requirement already satisfied: py4j==0.10.9.7 in /usr/local/lib/python3.10/dist-packages (from pyspark) (0.10.9.7)\n",
            "Building wheels for collected packages: pyspark\n",
            "  Building wheel for pyspark (setup.py) ... \u001b[?25l\u001b[?25hdone\n",
            "  Created wheel for pyspark: filename=pyspark-3.5.0-py2.py3-none-any.whl size=317425344 sha256=f7db41ad7ec0f1c925dd7d03355dc5a843b0af2a554c93ecd6cc372ee9e4ae4c\n",
            "  Stored in directory: /root/.cache/pip/wheels/41/4e/10/c2cf2467f71c678cfc8a6b9ac9241e5e44a01940da8fbb17fc\n",
            "Successfully built pyspark\n",
            "Installing collected packages: pyspark\n",
            "Successfully installed pyspark-3.5.0\n"
          ]
        }
      ],
      "source": [
        "! pip install pyspark"
      ]
    },
    {
      "cell_type": "code",
      "source": [
        "from pyspark.sql.types import (StringType,StructField,\n",
        "                               StructType,IntegerType,\n",
        "                               ArrayType,MapType)\n",
        "from pyspark.sql import SparkSession\n",
        "\n",
        "from pyspark.sql.functions import col,explode,split\n",
        "from pyspark.sql.functions import col,lit,when,expr\n",
        "\n"
      ],
      "metadata": {
        "id": "sE8SJ9wf9p7E"
      },
      "execution_count": 2,
      "outputs": []
    },
    {
      "cell_type": "code",
      "source": [
        "spark = SparkSession.builder.appName('alias_asc_desc_cast_like').getOrCreate()"
      ],
      "metadata": {
        "id": "eusPz0_e9xZZ"
      },
      "execution_count": 3,
      "outputs": []
    },
    {
      "cell_type": "code",
      "source": [],
      "metadata": {
        "id": "eWBJCeIz93ju"
      },
      "execution_count": null,
      "outputs": []
    },
    {
      "cell_type": "markdown",
      "source": [
        "- Alias() desc() asc() like() and cast() are the function on the columns of Dataframe in pyspark"
      ],
      "metadata": {
        "id": "Tm2gL6Xc9-fs"
      }
    },
    {
      "cell_type": "code",
      "source": [
        "data = [\n",
        "    ('Micheal jackson','Artist',51,('black','long_hair')),\\\n",
        "    ('Jacky chan','Actor',45,('asian','short_hair')),\\\n",
        "    ('Mia Khalifa','Actress',22,('arabic','long_hair'))\n",
        "]\n",
        "\n",
        "prop_struct = StructType([\n",
        "    StructField('races',StringType()),\\\n",
        "    StructField('hair_style',StringType())])\n",
        "\n",
        "schema= StructType([\n",
        "    StructField('Name',StringType()),\\\n",
        "    StructField('Occupation',StringType()),\\\n",
        "    StructField('Age',IntegerType()),\\\n",
        "    StructField('Properties',prop_struct)])\n",
        "\n",
        "\n",
        "df = spark.createDataFrame(data,schema)\n",
        "df.show()\n",
        "df.printSchema()"
      ],
      "metadata": {
        "colab": {
          "base_uri": "https://localhost:8080/"
        },
        "id": "0kflqdhf-aFP",
        "outputId": "bda1d048-7038-48ad-f5de-9dc7a9600a88"
      },
      "execution_count": 4,
      "outputs": [
        {
          "output_type": "stream",
          "name": "stdout",
          "text": [
            "+---------------+----------+---+-------------------+\n",
            "|           Name|Occupation|Age|         Properties|\n",
            "+---------------+----------+---+-------------------+\n",
            "|Micheal jackson|    Artist| 51| {black, long_hair}|\n",
            "|     Jacky chan|     Actor| 45|{asian, short_hair}|\n",
            "|    Mia Khalifa|   Actress| 22|{arabic, long_hair}|\n",
            "+---------------+----------+---+-------------------+\n",
            "\n",
            "root\n",
            " |-- Name: string (nullable = true)\n",
            " |-- Occupation: string (nullable = true)\n",
            " |-- Age: integer (nullable = true)\n",
            " |-- Properties: struct (nullable = true)\n",
            " |    |-- races: string (nullable = true)\n",
            " |    |-- hair_style: string (nullable = true)\n",
            "\n"
          ]
        }
      ]
    },
    {
      "cell_type": "markdown",
      "source": [
        "## Alias()"
      ],
      "metadata": {
        "id": "5Mb9R0az-NyN"
      }
    },
    {
      "cell_type": "code",
      "source": [
        "df1 = df.select((df.Name.alias('Artist_name')),\\\n",
        "          (df.Occupation.alias('Passion')),\\\n",
        "          (df.Age.alias('Age_of_artist')),\\\n",
        "          (df.Properties.alias('Body_characteristics')))"
      ],
      "metadata": {
        "id": "7tt6sCMr-YT9"
      },
      "execution_count": 9,
      "outputs": []
    },
    {
      "cell_type": "code",
      "source": [
        "df1.select(df1.Body_characteristics.getField('hair_style').alias('Hair_style')).show()"
      ],
      "metadata": {
        "colab": {
          "base_uri": "https://localhost:8080/"
        },
        "id": "QyKS8Tjz_r3V",
        "outputId": "bbb18721-b69f-4dd2-da85-b04fc0b19167"
      },
      "execution_count": 29,
      "outputs": [
        {
          "output_type": "stream",
          "name": "stdout",
          "text": [
            "+----------+\n",
            "|Hair_style|\n",
            "+----------+\n",
            "| long_hair|\n",
            "|short_hair|\n",
            "| long_hair|\n",
            "+----------+\n",
            "\n"
          ]
        }
      ]
    },
    {
      "cell_type": "code",
      "source": [],
      "metadata": {
        "id": "ua7Qbr8uQgYC"
      },
      "execution_count": null,
      "outputs": []
    },
    {
      "cell_type": "markdown",
      "source": [
        "## desc() & asc()\n",
        "\n",
        "- sort column ascending or descending order"
      ],
      "metadata": {
        "id": "0GiPcGcHQhHr"
      }
    },
    {
      "cell_type": "code",
      "source": [
        "df.sort(df.Age.asc()).show()"
      ],
      "metadata": {
        "colab": {
          "base_uri": "https://localhost:8080/"
        },
        "id": "uoVukkmFBSx9",
        "outputId": "3ce00b3d-6fe9-4ebe-a3d2-436bf0e934c9"
      },
      "execution_count": 21,
      "outputs": [
        {
          "output_type": "stream",
          "name": "stdout",
          "text": [
            "+---------------+----------+---+-------------------+\n",
            "|           Name|Occupation|Age|         Properties|\n",
            "+---------------+----------+---+-------------------+\n",
            "|    Mia Khalifa|   Actress| 22|{arabic, long_hair}|\n",
            "|     Jacky chan|     Actor| 45|{asian, short_hair}|\n",
            "|Micheal jackson|    Artist| 51| {black, long_hair}|\n",
            "+---------------+----------+---+-------------------+\n",
            "\n"
          ]
        }
      ]
    },
    {
      "cell_type": "code",
      "source": [
        "df.sort(df.Age.asc()).show()"
      ],
      "metadata": {
        "colab": {
          "base_uri": "https://localhost:8080/"
        },
        "id": "WL20eYwnIwDS",
        "outputId": "61cae2b1-b603-4db5-de48-a6b6be5554be"
      },
      "execution_count": 28,
      "outputs": [
        {
          "output_type": "stream",
          "name": "stdout",
          "text": [
            "+---------------+----------+---+-------------------+\n",
            "|           Name|Occupation|Age|         Properties|\n",
            "+---------------+----------+---+-------------------+\n",
            "|    Mia Khalifa|   Actress| 22|{arabic, long_hair}|\n",
            "|     Jacky chan|     Actor| 45|{asian, short_hair}|\n",
            "|Micheal jackson|    Artist| 51| {black, long_hair}|\n",
            "+---------------+----------+---+-------------------+\n",
            "\n"
          ]
        }
      ]
    },
    {
      "cell_type": "code",
      "source": [],
      "metadata": {
        "id": "28rsj0nRQXC6"
      },
      "execution_count": null,
      "outputs": []
    },
    {
      "cell_type": "markdown",
      "source": [
        "## Cast()\n",
        "\n",
        "- convert the cast function"
      ],
      "metadata": {
        "id": "xeNbM23HQwNz"
      }
    },
    {
      "cell_type": "code",
      "source": [
        "data = [\n",
        "    ('Micheal','male',56451),\\\n",
        "    ('Jackson','male',2456),\\\n",
        "    ('Aishwarya','Female',56124)]\n",
        "\n",
        "schema = ['Emp_name','Gender','Salary']\n",
        "\n",
        "df = spark.createDataFrame(data,schema)\n",
        "df.printSchema()\n",
        "df.show()"
      ],
      "metadata": {
        "colab": {
          "base_uri": "https://localhost:8080/"
        },
        "id": "bOsfeHtAQUty",
        "outputId": "c71de4b4-0c95-4e9d-9a7a-33a773e384e5"
      },
      "execution_count": 31,
      "outputs": [
        {
          "output_type": "stream",
          "name": "stdout",
          "text": [
            "root\n",
            " |-- Emp_name: string (nullable = true)\n",
            " |-- Gender: string (nullable = true)\n",
            " |-- Salary: long (nullable = true)\n",
            "\n",
            "+---------+------+------+\n",
            "| Emp_name|Gender|Salary|\n",
            "+---------+------+------+\n",
            "|  Micheal|  male| 56451|\n",
            "|  Jackson|  male|  2456|\n",
            "|Aishwarya|Female| 56124|\n",
            "+---------+------+------+\n",
            "\n"
          ]
        }
      ]
    },
    {
      "cell_type": "code",
      "source": [
        "df1 = df.select(df.Emp_name,df.Gender,df.Salary.cast('int'))\n",
        "df1.printSchema()\n",
        "df1.show()"
      ],
      "metadata": {
        "colab": {
          "base_uri": "https://localhost:8080/"
        },
        "id": "80e2RPHIRXMX",
        "outputId": "b41f9248-6f6e-44a3-ca50-572a65f50883"
      },
      "execution_count": 36,
      "outputs": [
        {
          "output_type": "stream",
          "name": "stdout",
          "text": [
            "root\n",
            " |-- Emp_name: string (nullable = true)\n",
            " |-- Gender: string (nullable = true)\n",
            " |-- Salary: integer (nullable = true)\n",
            "\n",
            "+---------+------+------+\n",
            "| Emp_name|Gender|Salary|\n",
            "+---------+------+------+\n",
            "|  Micheal|  male| 56451|\n",
            "|  Jackson|  male|  2456|\n",
            "|Aishwarya|Female| 56124|\n",
            "+---------+------+------+\n",
            "\n"
          ]
        }
      ]
    },
    {
      "cell_type": "markdown",
      "source": [
        "## like()\n",
        "\n",
        "Similar to SQL expression"
      ],
      "metadata": {
        "id": "pgDJ4zr1S6jy"
      }
    },
    {
      "cell_type": "code",
      "source": [
        "df.filter(df.Emp_name.like('%is%')).show()"
      ],
      "metadata": {
        "colab": {
          "base_uri": "https://localhost:8080/"
        },
        "id": "bRKzK6tYTADS",
        "outputId": "b11ae593-498e-4a81-c29f-2342dace9ec1"
      },
      "execution_count": 49,
      "outputs": [
        {
          "output_type": "stream",
          "name": "stdout",
          "text": [
            "+---------+------+------+\n",
            "| Emp_name|Gender|Salary|\n",
            "+---------+------+------+\n",
            "|Aishwarya|Female| 56124|\n",
            "+---------+------+------+\n",
            "\n"
          ]
        }
      ]
    },
    {
      "cell_type": "code",
      "source": [
        "df.filter((df.Gender.like('m%'))&(df.Emp_name.like('M%')) ).show()"
      ],
      "metadata": {
        "colab": {
          "base_uri": "https://localhost:8080/"
        },
        "id": "x872_zjxRmMO",
        "outputId": "9639f801-a9e9-4841-a8a6-f8ff6efd7e28"
      },
      "execution_count": 56,
      "outputs": [
        {
          "output_type": "stream",
          "name": "stdout",
          "text": [
            "+--------+------+------+\n",
            "|Emp_name|Gender|Salary|\n",
            "+--------+------+------+\n",
            "| Micheal|  male| 56451|\n",
            "+--------+------+------+\n",
            "\n"
          ]
        }
      ]
    },
    {
      "cell_type": "code",
      "source": [],
      "metadata": {
        "id": "npCyE_BSIcb6"
      },
      "execution_count": null,
      "outputs": []
    },
    {
      "cell_type": "code",
      "source": [],
      "metadata": {
        "id": "hvp-pBvpANJ9"
      },
      "execution_count": null,
      "outputs": []
    },
    {
      "cell_type": "code",
      "source": [],
      "metadata": {
        "id": "A_rnrEXt_yvk"
      },
      "execution_count": null,
      "outputs": []
    },
    {
      "cell_type": "code",
      "source": [],
      "metadata": {
        "id": "P3zrzN3Q_bOk"
      },
      "execution_count": null,
      "outputs": []
    },
    {
      "cell_type": "code",
      "source": [],
      "metadata": {
        "id": "aWOoASBn-nRv"
      },
      "execution_count": null,
      "outputs": []
    },
    {
      "cell_type": "code",
      "source": [],
      "metadata": {
        "id": "dK4nguUk-PfX"
      },
      "execution_count": 3,
      "outputs": []
    }
  ]
}