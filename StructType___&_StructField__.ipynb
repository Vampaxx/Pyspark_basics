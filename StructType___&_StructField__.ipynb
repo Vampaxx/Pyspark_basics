{
  "nbformat": 4,
  "nbformat_minor": 0,
  "metadata": {
    "colab": {
      "provenance": [],
      "authorship_tag": "ABX9TyN7id6JzVwqWWQkyvuRb8d1",
      "include_colab_link": true
    },
    "kernelspec": {
      "name": "python3",
      "display_name": "Python 3"
    },
    "language_info": {
      "name": "python"
    }
  },
  "cells": [
    {
      "cell_type": "markdown",
      "metadata": {
        "id": "view-in-github",
        "colab_type": "text"
      },
      "source": [
        "<a href=\"https://colab.research.google.com/github/Vampaxx/Pyspark_basics/blob/main/StructType___%26_StructField__.ipynb\" target=\"_parent\"><img src=\"https://colab.research.google.com/assets/colab-badge.svg\" alt=\"Open In Colab\"/></a>"
      ]
    },
    {
      "cell_type": "code",
      "execution_count": 3,
      "metadata": {
        "colab": {
          "base_uri": "https://localhost:8080/"
        },
        "id": "ZF8NkORM29Y-",
        "outputId": "fdc66ca4-5af3-4f82-b820-49d827811bef"
      },
      "outputs": [
        {
          "output_type": "stream",
          "name": "stdout",
          "text": [
            "Collecting pyspark\n",
            "  Downloading pyspark-3.5.0.tar.gz (316.9 MB)\n",
            "\u001b[2K     \u001b[90m━━━━━━━━━━━━━━━━━━━━━━━━━━━━━━━━━━━━━━━━\u001b[0m \u001b[32m316.9/316.9 MB\u001b[0m \u001b[31m4.4 MB/s\u001b[0m eta \u001b[36m0:00:00\u001b[0m\n",
            "\u001b[?25h  Preparing metadata (setup.py) ... \u001b[?25l\u001b[?25hdone\n",
            "Requirement already satisfied: py4j==0.10.9.7 in /usr/local/lib/python3.10/dist-packages (from pyspark) (0.10.9.7)\n",
            "Building wheels for collected packages: pyspark\n",
            "  Building wheel for pyspark (setup.py) ... \u001b[?25l\u001b[?25hdone\n",
            "  Created wheel for pyspark: filename=pyspark-3.5.0-py2.py3-none-any.whl size=317425344 sha256=a7bcc6c2c059c5230ae04d3e82c320eddd28d4416a0bc9faf3ede1a4b15c6db2\n",
            "  Stored in directory: /root/.cache/pip/wheels/41/4e/10/c2cf2467f71c678cfc8a6b9ac9241e5e44a01940da8fbb17fc\n",
            "Successfully built pyspark\n",
            "Installing collected packages: pyspark\n",
            "Successfully installed pyspark-3.5.0\n"
          ]
        }
      ],
      "source": [
        "! pip install pyspark"
      ]
    },
    {
      "cell_type": "markdown",
      "source": [
        "## StructType__ & StructField__"
      ],
      "metadata": {
        "id": "f-2Qu-j13hrN"
      }
    },
    {
      "cell_type": "markdown",
      "source": [
        "- Pyspark StructType & StructField classes are to programmatically specify the schema to the dataFrame and create complex columns like Nested struct,array, and map columns\n",
        "- StructType is collection of StructField"
      ],
      "metadata": {
        "id": "ABbMgxQF3lZN"
      }
    },
    {
      "cell_type": "code",
      "source": [
        "from pyspark.sql.types import StringType,StructField,StructType,IntegerType\n",
        "from pyspark.sql import SparkSession"
      ],
      "metadata": {
        "id": "ocs2rWSn4E4d"
      },
      "execution_count": 4,
      "outputs": []
    },
    {
      "cell_type": "code",
      "source": [
        "spark = SparkSession.builder.appName('structType_&_structField').getOrCreate()"
      ],
      "metadata": {
        "id": "ysM022Fu57AF"
      },
      "execution_count": 5,
      "outputs": []
    },
    {
      "cell_type": "code",
      "source": [
        "data = [(1,'Shah',50000),\n",
        "        (2,'Micheal',75000),\n",
        "        (3,'Mia',10000),\n",
        "        (4,'Daniel',2500),\n",
        "        (5,'Johnson',6000)]\n",
        "schema = StructType(\n",
        "    [StructField(name='Id',      dataType=IntegerType(),nullable=True),\\\n",
        "     StructField(name='Emp_name',dataType=StringType(),nullable=True),\\\n",
        "     StructField(name='Salary',  dataType=IntegerType(),nullable=True),])\n",
        "\n",
        "df = spark.createDataFrame(data=data,schema=schema)\n",
        "df.printSchema()\n",
        "df.show()"
      ],
      "metadata": {
        "colab": {
          "base_uri": "https://localhost:8080/"
        },
        "id": "vC-UkkVZ4Z3N",
        "outputId": "cfbd9551-45b7-4fba-99ac-632da735f392"
      },
      "execution_count": 6,
      "outputs": [
        {
          "output_type": "stream",
          "name": "stdout",
          "text": [
            "root\n",
            " |-- Id: integer (nullable = true)\n",
            " |-- Emp_name: string (nullable = true)\n",
            " |-- Salary: integer (nullable = true)\n",
            "\n",
            "+---+--------+------+\n",
            "| Id|Emp_name|Salary|\n",
            "+---+--------+------+\n",
            "|  1|    Shah| 50000|\n",
            "|  2| Micheal| 75000|\n",
            "|  3|     Mia| 10000|\n",
            "|  4|  Daniel|  2500|\n",
            "|  5| Johnson|  6000|\n",
            "+---+--------+------+\n",
            "\n"
          ]
        }
      ]
    },
    {
      "cell_type": "markdown",
      "source": [
        "## Defining Nested structType object struct"
      ],
      "metadata": {
        "id": "Mra2nCmZiJyu"
      }
    },
    {
      "cell_type": "code",
      "source": [
        "data = [(1,('Shah','sha'),50000),\n",
        "        (2,('Micheal','Jackson'),75000),\n",
        "        (3,('Mia','Sharma'),10000),\n",
        "        (4,('Daniel','jacob'),2500),\n",
        "        (5,('John','cena'),6000)]\n",
        "\n",
        "# here Emp_name column is not string type, its a complex type or nested type\n",
        "struct_name = StructType([\\\n",
        "                           StructField('First_name',StringType()),\\\n",
        "                           StructField('last_name',StringType())\n",
        "                           ])\n",
        "schema = StructType([\\\n",
        "                     StructField('Id',dataType=IntegerType()),\\\n",
        "                     StructField('Emp_name',dataType=struct_name),\\\n",
        "                     StructField('salary',dataType=IntegerType()),\\\n",
        "                     ])\n",
        "spark.createDataFrame(data,schema).show()\n",
        "spark.createDataFrame(data,schema).printSchema()"
      ],
      "metadata": {
        "id": "Up8Jmxor6zG2",
        "colab": {
          "base_uri": "https://localhost:8080/"
        },
        "outputId": "5990d74c-f1fa-42eb-e4f0-5ddbdd9261c6"
      },
      "execution_count": 20,
      "outputs": [
        {
          "output_type": "stream",
          "name": "stdout",
          "text": [
            "+---+------------------+------+\n",
            "| Id|          Emp_name|salary|\n",
            "+---+------------------+------+\n",
            "|  1|       {Shah, sha}| 50000|\n",
            "|  2|{Micheal, Jackson}| 75000|\n",
            "|  3|     {Mia, Sharma}| 10000|\n",
            "|  4|   {Daniel, jacob}|  2500|\n",
            "|  5|      {John, cena}|  6000|\n",
            "+---+------------------+------+\n",
            "\n",
            "root\n",
            " |-- Id: integer (nullable = true)\n",
            " |-- Emp_name: struct (nullable = true)\n",
            " |    |-- First_name: string (nullable = true)\n",
            " |    |-- last_name: string (nullable = true)\n",
            " |-- salary: integer (nullable = true)\n",
            "\n"
          ]
        }
      ]
    },
    {
      "cell_type": "code",
      "source": [],
      "metadata": {
        "id": "jiVA3rO3h-3t"
      },
      "execution_count": null,
      "outputs": []
    },
    {
      "cell_type": "code",
      "source": [],
      "metadata": {
        "id": "YULroIeqh5d1"
      },
      "execution_count": null,
      "outputs": []
    },
    {
      "cell_type": "code",
      "source": [],
      "metadata": {
        "id": "m0QV5A3gha0G"
      },
      "execution_count": null,
      "outputs": []
    },
    {
      "cell_type": "code",
      "source": [],
      "metadata": {
        "id": "a2iO4l_-g0te"
      },
      "execution_count": null,
      "outputs": []
    },
    {
      "cell_type": "code",
      "source": [],
      "metadata": {
        "id": "WCYhtmb1gXZV"
      },
      "execution_count": null,
      "outputs": []
    },
    {
      "cell_type": "code",
      "source": [],
      "metadata": {
        "id": "6u4wKz-6gKcW"
      },
      "execution_count": null,
      "outputs": []
    },
    {
      "cell_type": "code",
      "source": [
        "struct_name"
      ],
      "metadata": {
        "colab": {
          "base_uri": "https://localhost:8080/"
        },
        "id": "L7GdE3fS6vGd",
        "outputId": "a57e4409-bdae-49a6-ae35-2e17716e346c"
      },
      "execution_count": 10,
      "outputs": [
        {
          "output_type": "execute_result",
          "data": {
            "text/plain": [
              "StructType([StructField('First_name', StringType(), True), StructField('last_name', StringType(), True)])"
            ]
          },
          "metadata": {},
          "execution_count": 10
        }
      ]
    },
    {
      "cell_type": "code",
      "source": [],
      "metadata": {
        "id": "K2r-xbV4DogN"
      },
      "execution_count": 7,
      "outputs": []
    }
  ]
}